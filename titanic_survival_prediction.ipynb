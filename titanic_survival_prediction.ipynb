{
  "nbformat": 4,
  "nbformat_minor": 0,
  "metadata": {
    "colab": {
      "name": "titanic_survival_prediction.ipynb",
      "provenance": [],
      "collapsed_sections": [],
      "authorship_tag": "ABX9TyOm54qAuJIUzmJPY0aMjz5j",
      "include_colab_link": true
    },
    "kernelspec": {
      "name": "python3",
      "display_name": "Python 3"
    },
    "language_info": {
      "name": "python"
    }
  },
  "cells": [
    {
      "cell_type": "markdown",
      "metadata": {
        "id": "view-in-github",
        "colab_type": "text"
      },
      "source": [
        "<a href=\"https://colab.research.google.com/github/OmerNachshon/Titanic---Machine-Learning-from-Disaster-2/blob/main/titanic_survival_prediction.ipynb\" target=\"_parent\"><img src=\"https://colab.research.google.com/assets/colab-badge.svg\" alt=\"Open In Colab\"/></a>"
      ]
    },
    {
      "cell_type": "markdown",
      "source": [
        "https://www.kaggle.com/om3rnach/account , omer nachshon 209006535"
      ],
      "metadata": {
        "id": "CljfrQjtEQV2"
      }
    },
    {
      "cell_type": "markdown",
      "source": [
        "# TL;DR\n",
        "Goal: predict the number of survivors on the Titanic\n",
        "Approach:\n",
        "* Replace all non numeric values to numeric values\n",
        "* Fill/Drop missing values \n",
        "* Drop irrelevent features\n",
        "* Create Additional features from existing features\n",
        "* Seperate dataset into dependant and independant features \n",
        "* Create dummies \n",
        "* Split using train_test_split module to train our model\n",
        "* Use LogisticRegression, BaggingClassifier ,RFClassifier,DecTreeClassifier \n",
        "* Model Hyperparameter Optimization with GridSearch\n",
        "* Choose best model"
      ],
      "metadata": {
        "id": "DscyjL40EY4e"
      }
    },
    {
      "cell_type": "code",
      "source": [
        "import pandas as pd\n",
        "import numpy as np\n",
        "import matplotlib.pyplot as plt\n",
        "import seaborn as sns"
      ],
      "metadata": {
        "id": "DF7elbUNk0_M"
      },
      "execution_count": null,
      "outputs": []
    },
    {
      "cell_type": "code",
      "source": [
        "train=pd.read_csv(\"sample_data/train.csv\")\n",
        "train.head()"
      ],
      "metadata": {
        "colab": {
          "base_uri": "https://localhost:8080/",
          "height": 250
        },
        "id": "oLrrJZg9lnHc",
        "outputId": "ab94bc64-f770-4d83-f329-35168b6b62c9"
      },
      "execution_count": null,
      "outputs": [
        {
          "output_type": "execute_result",
          "data": {
            "text/plain": [
              "   PassengerId  Survived  Pclass  \\\n",
              "0            1         0       3   \n",
              "1            2         1       1   \n",
              "2            3         1       3   \n",
              "3            4         1       1   \n",
              "4            5         0       3   \n",
              "\n",
              "                                                Name     Sex   Age  SibSp  \\\n",
              "0                            Braund, Mr. Owen Harris    male  22.0      1   \n",
              "1  Cumings, Mrs. John Bradley (Florence Briggs Th...  female  38.0      1   \n",
              "2                             Heikkinen, Miss. Laina  female  26.0      0   \n",
              "3       Futrelle, Mrs. Jacques Heath (Lily May Peel)  female  35.0      1   \n",
              "4                           Allen, Mr. William Henry    male  35.0      0   \n",
              "\n",
              "   Parch            Ticket     Fare Cabin Embarked  \n",
              "0      0         A/5 21171   7.2500   NaN        S  \n",
              "1      0          PC 17599  71.2833   C85        C  \n",
              "2      0  STON/O2. 3101282   7.9250   NaN        S  \n",
              "3      0            113803  53.1000  C123        S  \n",
              "4      0            373450   8.0500   NaN        S  "
            ],
            "text/html": [
              "\n",
              "  <div id=\"df-b983e031-4e88-4a65-9a78-ad8a0a4df36b\">\n",
              "    <div class=\"colab-df-container\">\n",
              "      <div>\n",
              "<style scoped>\n",
              "    .dataframe tbody tr th:only-of-type {\n",
              "        vertical-align: middle;\n",
              "    }\n",
              "\n",
              "    .dataframe tbody tr th {\n",
              "        vertical-align: top;\n",
              "    }\n",
              "\n",
              "    .dataframe thead th {\n",
              "        text-align: right;\n",
              "    }\n",
              "</style>\n",
              "<table border=\"1\" class=\"dataframe\">\n",
              "  <thead>\n",
              "    <tr style=\"text-align: right;\">\n",
              "      <th></th>\n",
              "      <th>PassengerId</th>\n",
              "      <th>Survived</th>\n",
              "      <th>Pclass</th>\n",
              "      <th>Name</th>\n",
              "      <th>Sex</th>\n",
              "      <th>Age</th>\n",
              "      <th>SibSp</th>\n",
              "      <th>Parch</th>\n",
              "      <th>Ticket</th>\n",
              "      <th>Fare</th>\n",
              "      <th>Cabin</th>\n",
              "      <th>Embarked</th>\n",
              "    </tr>\n",
              "  </thead>\n",
              "  <tbody>\n",
              "    <tr>\n",
              "      <th>0</th>\n",
              "      <td>1</td>\n",
              "      <td>0</td>\n",
              "      <td>3</td>\n",
              "      <td>Braund, Mr. Owen Harris</td>\n",
              "      <td>male</td>\n",
              "      <td>22.0</td>\n",
              "      <td>1</td>\n",
              "      <td>0</td>\n",
              "      <td>A/5 21171</td>\n",
              "      <td>7.2500</td>\n",
              "      <td>NaN</td>\n",
              "      <td>S</td>\n",
              "    </tr>\n",
              "    <tr>\n",
              "      <th>1</th>\n",
              "      <td>2</td>\n",
              "      <td>1</td>\n",
              "      <td>1</td>\n",
              "      <td>Cumings, Mrs. John Bradley (Florence Briggs Th...</td>\n",
              "      <td>female</td>\n",
              "      <td>38.0</td>\n",
              "      <td>1</td>\n",
              "      <td>0</td>\n",
              "      <td>PC 17599</td>\n",
              "      <td>71.2833</td>\n",
              "      <td>C85</td>\n",
              "      <td>C</td>\n",
              "    </tr>\n",
              "    <tr>\n",
              "      <th>2</th>\n",
              "      <td>3</td>\n",
              "      <td>1</td>\n",
              "      <td>3</td>\n",
              "      <td>Heikkinen, Miss. Laina</td>\n",
              "      <td>female</td>\n",
              "      <td>26.0</td>\n",
              "      <td>0</td>\n",
              "      <td>0</td>\n",
              "      <td>STON/O2. 3101282</td>\n",
              "      <td>7.9250</td>\n",
              "      <td>NaN</td>\n",
              "      <td>S</td>\n",
              "    </tr>\n",
              "    <tr>\n",
              "      <th>3</th>\n",
              "      <td>4</td>\n",
              "      <td>1</td>\n",
              "      <td>1</td>\n",
              "      <td>Futrelle, Mrs. Jacques Heath (Lily May Peel)</td>\n",
              "      <td>female</td>\n",
              "      <td>35.0</td>\n",
              "      <td>1</td>\n",
              "      <td>0</td>\n",
              "      <td>113803</td>\n",
              "      <td>53.1000</td>\n",
              "      <td>C123</td>\n",
              "      <td>S</td>\n",
              "    </tr>\n",
              "    <tr>\n",
              "      <th>4</th>\n",
              "      <td>5</td>\n",
              "      <td>0</td>\n",
              "      <td>3</td>\n",
              "      <td>Allen, Mr. William Henry</td>\n",
              "      <td>male</td>\n",
              "      <td>35.0</td>\n",
              "      <td>0</td>\n",
              "      <td>0</td>\n",
              "      <td>373450</td>\n",
              "      <td>8.0500</td>\n",
              "      <td>NaN</td>\n",
              "      <td>S</td>\n",
              "    </tr>\n",
              "  </tbody>\n",
              "</table>\n",
              "</div>\n",
              "      <button class=\"colab-df-convert\" onclick=\"convertToInteractive('df-b983e031-4e88-4a65-9a78-ad8a0a4df36b')\"\n",
              "              title=\"Convert this dataframe to an interactive table.\"\n",
              "              style=\"display:none;\">\n",
              "        \n",
              "  <svg xmlns=\"http://www.w3.org/2000/svg\" height=\"24px\"viewBox=\"0 0 24 24\"\n",
              "       width=\"24px\">\n",
              "    <path d=\"M0 0h24v24H0V0z\" fill=\"none\"/>\n",
              "    <path d=\"M18.56 5.44l.94 2.06.94-2.06 2.06-.94-2.06-.94-.94-2.06-.94 2.06-2.06.94zm-11 1L8.5 8.5l.94-2.06 2.06-.94-2.06-.94L8.5 2.5l-.94 2.06-2.06.94zm10 10l.94 2.06.94-2.06 2.06-.94-2.06-.94-.94-2.06-.94 2.06-2.06.94z\"/><path d=\"M17.41 7.96l-1.37-1.37c-.4-.4-.92-.59-1.43-.59-.52 0-1.04.2-1.43.59L10.3 9.45l-7.72 7.72c-.78.78-.78 2.05 0 2.83L4 21.41c.39.39.9.59 1.41.59.51 0 1.02-.2 1.41-.59l7.78-7.78 2.81-2.81c.8-.78.8-2.07 0-2.86zM5.41 20L4 18.59l7.72-7.72 1.47 1.35L5.41 20z\"/>\n",
              "  </svg>\n",
              "      </button>\n",
              "      \n",
              "  <style>\n",
              "    .colab-df-container {\n",
              "      display:flex;\n",
              "      flex-wrap:wrap;\n",
              "      gap: 12px;\n",
              "    }\n",
              "\n",
              "    .colab-df-convert {\n",
              "      background-color: #E8F0FE;\n",
              "      border: none;\n",
              "      border-radius: 50%;\n",
              "      cursor: pointer;\n",
              "      display: none;\n",
              "      fill: #1967D2;\n",
              "      height: 32px;\n",
              "      padding: 0 0 0 0;\n",
              "      width: 32px;\n",
              "    }\n",
              "\n",
              "    .colab-df-convert:hover {\n",
              "      background-color: #E2EBFA;\n",
              "      box-shadow: 0px 1px 2px rgba(60, 64, 67, 0.3), 0px 1px 3px 1px rgba(60, 64, 67, 0.15);\n",
              "      fill: #174EA6;\n",
              "    }\n",
              "\n",
              "    [theme=dark] .colab-df-convert {\n",
              "      background-color: #3B4455;\n",
              "      fill: #D2E3FC;\n",
              "    }\n",
              "\n",
              "    [theme=dark] .colab-df-convert:hover {\n",
              "      background-color: #434B5C;\n",
              "      box-shadow: 0px 1px 3px 1px rgba(0, 0, 0, 0.15);\n",
              "      filter: drop-shadow(0px 1px 2px rgba(0, 0, 0, 0.3));\n",
              "      fill: #FFFFFF;\n",
              "    }\n",
              "  </style>\n",
              "\n",
              "      <script>\n",
              "        const buttonEl =\n",
              "          document.querySelector('#df-b983e031-4e88-4a65-9a78-ad8a0a4df36b button.colab-df-convert');\n",
              "        buttonEl.style.display =\n",
              "          google.colab.kernel.accessAllowed ? 'block' : 'none';\n",
              "\n",
              "        async function convertToInteractive(key) {\n",
              "          const element = document.querySelector('#df-b983e031-4e88-4a65-9a78-ad8a0a4df36b');\n",
              "          const dataTable =\n",
              "            await google.colab.kernel.invokeFunction('convertToInteractive',\n",
              "                                                     [key], {});\n",
              "          if (!dataTable) return;\n",
              "\n",
              "          const docLinkHtml = 'Like what you see? Visit the ' +\n",
              "            '<a target=\"_blank\" href=https://colab.research.google.com/notebooks/data_table.ipynb>data table notebook</a>'\n",
              "            + ' to learn more about interactive tables.';\n",
              "          element.innerHTML = '';\n",
              "          dataTable['output_type'] = 'display_data';\n",
              "          await google.colab.output.renderOutput(dataTable, element);\n",
              "          const docLink = document.createElement('div');\n",
              "          docLink.innerHTML = docLinkHtml;\n",
              "          element.appendChild(docLink);\n",
              "        }\n",
              "      </script>\n",
              "    </div>\n",
              "  </div>\n",
              "  "
            ]
          },
          "metadata": {},
          "execution_count": 282
        }
      ]
    },
    {
      "cell_type": "code",
      "source": [
        "test=pd.read_csv(\"sample_data/test.csv\")\n",
        "test.head()\n",
        "id_col=test['PassengerId']"
      ],
      "metadata": {
        "id": "LyYhYIEmmC--"
      },
      "execution_count": null,
      "outputs": []
    },
    {
      "cell_type": "code",
      "source": [
        "train.info()"
      ],
      "metadata": {
        "colab": {
          "base_uri": "https://localhost:8080/"
        },
        "id": "B1xK8sDWmxRz",
        "outputId": "36cbcf30-a4c6-455e-e430-88041b5ff1e9"
      },
      "execution_count": null,
      "outputs": [
        {
          "output_type": "stream",
          "name": "stdout",
          "text": [
            "<class 'pandas.core.frame.DataFrame'>\n",
            "RangeIndex: 891 entries, 0 to 890\n",
            "Data columns (total 12 columns):\n",
            " #   Column       Non-Null Count  Dtype  \n",
            "---  ------       --------------  -----  \n",
            " 0   PassengerId  891 non-null    int64  \n",
            " 1   Survived     891 non-null    int64  \n",
            " 2   Pclass       891 non-null    int64  \n",
            " 3   Name         891 non-null    object \n",
            " 4   Sex          891 non-null    object \n",
            " 5   Age          714 non-null    float64\n",
            " 6   SibSp        891 non-null    int64  \n",
            " 7   Parch        891 non-null    int64  \n",
            " 8   Ticket       891 non-null    object \n",
            " 9   Fare         891 non-null    float64\n",
            " 10  Cabin        204 non-null    object \n",
            " 11  Embarked     889 non-null    object \n",
            "dtypes: float64(2), int64(5), object(5)\n",
            "memory usage: 83.7+ KB\n"
          ]
        }
      ]
    },
    {
      "cell_type": "code",
      "source": [
        "sns.displot(x='Age', data=train)\n",
        "plt.show()"
      ],
      "metadata": {
        "colab": {
          "base_uri": "https://localhost:8080/",
          "height": 369
        },
        "id": "rvqjcszcufK8",
        "outputId": "a183042d-6a02-4ff8-f8b1-eb3c03f2b453"
      },
      "execution_count": null,
      "outputs": [
        {
          "output_type": "display_data",
          "data": {
            "text/plain": [
              "<Figure size 360x360 with 1 Axes>"
            ],
            "image/png": "[encoded data removed]"
          },
          "metadata": {
            "needs_background": "light"
          }
        }
      ]
    },
    {
      "cell_type": "code",
      "source": [
        "sns.displot(x='Age', data=train, col='Survived')\n",
        "plt.show()"
      ],
      "metadata": {
        "colab": {
          "base_uri": "https://localhost:8080/",
          "height": 369
        },
        "id": "bGBNrmgAujYh",
        "outputId": "c2475224-4aed-45fb-b167-654689933ce9"
      },
      "execution_count": null,
      "outputs": [
        {
          "output_type": "display_data",
          "data": {
            "text/plain": [
              "<Figure size 720x360 with 2 Axes>"
            ],
            "image/png": "[encoded data removed]"
          },
          "metadata": {
            "needs_background": "light"
          }
        }
      ]
    },
    {
      "cell_type": "code",
      "source": [
        "train['Survived'].value_counts()"
      ],
      "metadata": {
        "colab": {
          "base_uri": "https://localhost:8080/"
        },
        "id": "8o4I2xUrnRJy",
        "outputId": "801032a1-4094-4d2e-8fea-b9f53f95ba43"
      },
      "execution_count": null,
      "outputs": [
        {
          "output_type": "execute_result",
          "data": {
            "text/plain": [
              "0    549\n",
              "1    342\n",
              "Name: Survived, dtype: int64"
            ]
          },
          "metadata": {},
          "execution_count": 287
        }
      ]
    },
    {
      "cell_type": "code",
      "source": [
        "sns.countplot(data=train,x='Survived')"
      ],
      "metadata": {
        "colab": {
          "base_uri": "https://localhost:8080/",
          "height": 296
        },
        "id": "iHE7tUZHnS5u",
        "outputId": "2e6a5910-43d6-468b-d9f9-32e7e26a7020"
      },
      "execution_count": null,
      "outputs": [
        {
          "output_type": "execute_result",
          "data": {
            "text/plain": [
              "<matplotlib.axes._subplots.AxesSubplot at 0x7f3bf1cd6cd0>"
            ]
          },
          "metadata": {},
          "execution_count": 288
        },
        {
          "output_type": "display_data",
          "data": {
            "text/plain": [
              "<Figure size 432x288 with 1 Axes>"
            ],
            "image/png": "[encoded data removed]"
          },
          "metadata": {
            "needs_background": "light"
          }
        }
      ]
    },
    {
      "cell_type": "markdown",
      "source": [
        "# Drop Irrelevant Columns (PassengerId,Ticket)"
      ],
      "metadata": {
        "id": "rD_RpXMdneEY"
      }
    },
    {
      "cell_type": "code",
      "source": [
        "train.drop('PassengerId', axis=1 , inplace=True)\n",
        "train.drop('Ticket',axis=1,inplace=True)\n",
        "test.drop('PassengerId', axis=1 , inplace=True)\n",
        "test.drop('Ticket',axis=1,inplace=True)\n",
        "train.head()"
      ],
      "metadata": {
        "colab": {
          "base_uri": "https://localhost:8080/",
          "height": 206
        },
        "id": "iZ91ftE7nfNU",
        "outputId": "234df46b-825f-4c12-c50f-59167a2342d4"
      },
      "execution_count": null,
      "outputs": [
        {
          "output_type": "execute_result",
          "data": {
            "text/plain": [
              "   Survived  Pclass                                               Name  \\\n",
              "0         0       3                            Braund, Mr. Owen Harris   \n",
              "1         1       1  Cumings, Mrs. John Bradley (Florence Briggs Th...   \n",
              "2         1       3                             Heikkinen, Miss. Laina   \n",
              "3         1       1       Futrelle, Mrs. Jacques Heath (Lily May Peel)   \n",
              "4         0       3                           Allen, Mr. William Henry   \n",
              "\n",
              "      Sex   Age  SibSp  Parch     Fare Cabin Embarked  \n",
              "0    male  22.0      1      0   7.2500   NaN        S  \n",
              "1  female  38.0      1      0  71.2833   C85        C  \n",
              "2  female  26.0      0      0   7.9250   NaN        S  \n",
              "3  female  35.0      1      0  53.1000  C123        S  \n",
              "4    male  35.0      0      0   8.0500   NaN        S  "
            ],
            "text/html": [
              "\n",
              "  <div id=\"df-e9bcc9e6-02da-4364-a2e0-ef533cf8c0d5\">\n",
              "    <div class=\"colab-df-container\">\n",
              "      <div>\n",
              "<style scoped>\n",
              "    .dataframe tbody tr th:only-of-type {\n",
              "        vertical-align: middle;\n",
              "    }\n",
              "\n",
              "    .dataframe tbody tr th {\n",
              "        vertical-align: top;\n",
              "    }\n",
              "\n",
              "    .dataframe thead th {\n",
              "        text-align: right;\n",
              "    }\n",
              "</style>\n",
              "<table border=\"1\" class=\"dataframe\">\n",
              "  <thead>\n",
              "    <tr style=\"text-align: right;\">\n",
              "      <th></th>\n",
              "      <th>Survived</th>\n",
              "      <th>Pclass</th>\n",
              "      <th>Name</th>\n",
              "      <th>Sex</th>\n",
              "      <th>Age</th>\n",
              "      <th>SibSp</th>\n",
              "      <th>Parch</th>\n",
              "      <th>Fare</th>\n",
              "      <th>Cabin</th>\n",
              "      <th>Embarked</th>\n",
              "    </tr>\n",
              "  </thead>\n",
              "  <tbody>\n",
              "    <tr>\n",
              "      <th>0</th>\n",
              "      <td>0</td>\n",
              "      <td>3</td>\n",
              "      <td>Braund, Mr. Owen Harris</td>\n",
              "      <td>male</td>\n",
              "      <td>22.0</td>\n",
              "      <td>1</td>\n",
              "      <td>0</td>\n",
              "      <td>7.2500</td>\n",
              "      <td>NaN</td>\n",
              "      <td>S</td>\n",
              "    </tr>\n",
              "    <tr>\n",
              "      <th>1</th>\n",
              "      <td>1</td>\n",
              "      <td>1</td>\n",
              "      <td>Cumings, Mrs. John Bradley (Florence Briggs Th...</td>\n",
              "      <td>female</td>\n",
              "      <td>38.0</td>\n",
              "      <td>1</td>\n",
              "      <td>0</td>\n",
              "      <td>71.2833</td>\n",
              "      <td>C85</td>\n",
              "      <td>C</td>\n",
              "    </tr>\n",
              "    <tr>\n",
              "      <th>2</th>\n",
              "      <td>1</td>\n",
              "      <td>3</td>\n",
              "      <td>Heikkinen, Miss. Laina</td>\n",
              "      <td>female</td>\n",
              "      <td>26.0</td>\n",
              "      <td>0</td>\n",
              "      <td>0</td>\n",
              "      <td>7.9250</td>\n",
              "      <td>NaN</td>\n",
              "      <td>S</td>\n",
              "    </tr>\n",
              "    <tr>\n",
              "      <th>3</th>\n",
              "      <td>1</td>\n",
              "      <td>1</td>\n",
              "      <td>Futrelle, Mrs. Jacques Heath (Lily May Peel)</td>\n",
              "      <td>female</td>\n",
              "      <td>35.0</td>\n",
              "      <td>1</td>\n",
              "      <td>0</td>\n",
              "      <td>53.1000</td>\n",
              "      <td>C123</td>\n",
              "      <td>S</td>\n",
              "    </tr>\n",
              "    <tr>\n",
              "      <th>4</th>\n",
              "      <td>0</td>\n",
              "      <td>3</td>\n",
              "      <td>Allen, Mr. William Henry</td>\n",
              "      <td>male</td>\n",
              "      <td>35.0</td>\n",
              "      <td>0</td>\n",
              "      <td>0</td>\n",
              "      <td>8.0500</td>\n",
              "      <td>NaN</td>\n",
              "      <td>S</td>\n",
              "    </tr>\n",
              "  </tbody>\n",
              "</table>\n",
              "</div>\n",
              "      <button class=\"colab-df-convert\" onclick=\"convertToInteractive('df-e9bcc9e6-02da-4364-a2e0-ef533cf8c0d5')\"\n",
              "              title=\"Convert this dataframe to an interactive table.\"\n",
              "              style=\"display:none;\">\n",
              "        \n",
              "  <svg xmlns=\"http://www.w3.org/2000/svg\" height=\"24px\"viewBox=\"0 0 24 24\"\n",
              "       width=\"24px\">\n",
              "    <path d=\"M0 0h24v24H0V0z\" fill=\"none\"/>\n",
              "    <path d=\"M18.56 5.44l.94 2.06.94-2.06 2.06-.94-2.06-.94-.94-2.06-.94 2.06-2.06.94zm-11 1L8.5 8.5l.94-2.06 2.06-.94-2.06-.94L8.5 2.5l-.94 2.06-2.06.94zm10 10l.94 2.06.94-2.06 2.06-.94-2.06-.94-.94-2.06-.94 2.06-2.06.94z\"/><path d=\"M17.41 7.96l-1.37-1.37c-.4-.4-.92-.59-1.43-.59-.52 0-1.04.2-1.43.59L10.3 9.45l-7.72 7.72c-.78.78-.78 2.05 0 2.83L4 21.41c.39.39.9.59 1.41.59.51 0 1.02-.2 1.41-.59l7.78-7.78 2.81-2.81c.8-.78.8-2.07 0-2.86zM5.41 20L4 18.59l7.72-7.72 1.47 1.35L5.41 20z\"/>\n",
              "  </svg>\n",
              "      </button>\n",
              "      \n",
              "  <style>\n",
              "    .colab-df-container {\n",
              "      display:flex;\n",
              "      flex-wrap:wrap;\n",
              "      gap: 12px;\n",
              "    }\n",
              "\n",
              "    .colab-df-convert {\n",
              "      background-color: #E8F0FE;\n",
              "      border: none;\n",
              "      border-radius: 50%;\n",
              "      cursor: pointer;\n",
              "      display: none;\n",
              "      fill: #1967D2;\n",
              "      height: 32px;\n",
              "      padding: 0 0 0 0;\n",
              "      width: 32px;\n",
              "    }\n",
              "\n",
              "    .colab-df-convert:hover {\n",
              "      background-color: #E2EBFA;\n",
              "      box-shadow: 0px 1px 2px rgba(60, 64, 67, 0.3), 0px 1px 3px 1px rgba(60, 64, 67, 0.15);\n",
              "      fill: #174EA6;\n",
              "    }\n",
              "\n",
              "    [theme=dark] .colab-df-convert {\n",
              "      background-color: #3B4455;\n",
              "      fill: #D2E3FC;\n",
              "    }\n",
              "\n",
              "    [theme=dark] .colab-df-convert:hover {\n",
              "      background-color: #434B5C;\n",
              "      box-shadow: 0px 1px 3px 1px rgba(0, 0, 0, 0.15);\n",
              "      filter: drop-shadow(0px 1px 2px rgba(0, 0, 0, 0.3));\n",
              "      fill: #FFFFFF;\n",
              "    }\n",
              "  </style>\n",
              "\n",
              "      <script>\n",
              "        const buttonEl =\n",
              "          document.querySelector('#df-e9bcc9e6-02da-4364-a2e0-ef533cf8c0d5 button.colab-df-convert');\n",
              "        buttonEl.style.display =\n",
              "          google.colab.kernel.accessAllowed ? 'block' : 'none';\n",
              "\n",
              "        async function convertToInteractive(key) {\n",
              "          const element = document.querySelector('#df-e9bcc9e6-02da-4364-a2e0-ef533cf8c0d5');\n",
              "          const dataTable =\n",
              "            await google.colab.kernel.invokeFunction('convertToInteractive',\n",
              "                                                     [key], {});\n",
              "          if (!dataTable) return;\n",
              "\n",
              "          const docLinkHtml = 'Like what you see? Visit the ' +\n",
              "            '<a target=\"_blank\" href=https://colab.research.google.com/notebooks/data_table.ipynb>data table notebook</a>'\n",
              "            + ' to learn more about interactive tables.';\n",
              "          element.innerHTML = '';\n",
              "          dataTable['output_type'] = 'display_data';\n",
              "          await google.colab.output.renderOutput(dataTable, element);\n",
              "          const docLink = document.createElement('div');\n",
              "          docLink.innerHTML = docLinkHtml;\n",
              "          element.appendChild(docLink);\n",
              "        }\n",
              "      </script>\n",
              "    </div>\n",
              "  </div>\n",
              "  "
            ]
          },
          "metadata": {},
          "execution_count": 289
        }
      ]
    },
    {
      "cell_type": "code",
      "source": [
        "train.corr()['Survived'].sort_values()"
      ],
      "metadata": {
        "colab": {
          "base_uri": "https://localhost:8080/"
        },
        "id": "dZ4pLlCWnivu",
        "outputId": "455a50c7-a0fa-41bb-a2c8-d4191dfe3d76"
      },
      "execution_count": null,
      "outputs": [
        {
          "output_type": "execute_result",
          "data": {
            "text/plain": [
              "Pclass     -0.338481\n",
              "Age        -0.077221\n",
              "SibSp      -0.035322\n",
              "Parch       0.081629\n",
              "Fare        0.257307\n",
              "Survived    1.000000\n",
              "Name: Survived, dtype: float64"
            ]
          },
          "metadata": {},
          "execution_count": 290
        }
      ]
    },
    {
      "cell_type": "code",
      "source": [
        "sns.scatterplot(data=train, x='Fare', y='Survived')\n",
        "plt.axvline(x=300 , color='r')"
      ],
      "metadata": {
        "colab": {
          "base_uri": "https://localhost:8080/",
          "height": 296
        },
        "id": "Uq6Xx3AFnnQ3",
        "outputId": "cb5399d2-7e61-4c45-bb8d-180223470db7"
      },
      "execution_count": null,
      "outputs": [
        {
          "output_type": "execute_result",
          "data": {
            "text/plain": [
              "<matplotlib.lines.Line2D at 0x7f3bf1f46190>"
            ]
          },
          "metadata": {},
          "execution_count": 291
        },
        {
          "output_type": "display_data",
          "data": {
            "text/plain": [
              "<Figure size 432x288 with 1 Axes>"
            ],
            "image/png": "[encoded data removed]"
          },
          "metadata": {
            "needs_background": "light"
          }
        }
      ]
    },
    {
      "cell_type": "code",
      "source": [
        "train[train['Fare']>300]['Fare'].count()"
      ],
      "metadata": {
        "colab": {
          "base_uri": "https://localhost:8080/"
        },
        "id": "rNSnAi8pnrPK",
        "outputId": "504a5d4a-99ea-4c2d-8214-c1b56c615e4b"
      },
      "execution_count": null,
      "outputs": [
        {
          "output_type": "execute_result",
          "data": {
            "text/plain": [
              "3"
            ]
          },
          "metadata": {},
          "execution_count": 292
        }
      ]
    },
    {
      "cell_type": "code",
      "source": [
        "train[(train['Fare']>300)][['Fare']]"
      ],
      "metadata": {
        "colab": {
          "base_uri": "https://localhost:8080/",
          "height": 143
        },
        "id": "Uwxbc_Hxns0N",
        "outputId": "2ac029fc-3899-4646-e3ce-29f03411623f"
      },
      "execution_count": null,
      "outputs": [
        {
          "output_type": "execute_result",
          "data": {
            "text/plain": [
              "         Fare\n",
              "258  512.3292\n",
              "679  512.3292\n",
              "737  512.3292"
            ],
            "text/html": [
              "\n",
              "  <div id=\"df-e7b29746-5a14-4ebe-b0fa-84a2520700ad\">\n",
              "    <div class=\"colab-df-container\">\n",
              "      <div>\n",
              "<style scoped>\n",
              "    .dataframe tbody tr th:only-of-type {\n",
              "        vertical-align: middle;\n",
              "    }\n",
              "\n",
              "    .dataframe tbody tr th {\n",
              "        vertical-align: top;\n",
              "    }\n",
              "\n",
              "    .dataframe thead th {\n",
              "        text-align: right;\n",
              "    }\n",
              "</style>\n",
              "<table border=\"1\" class=\"dataframe\">\n",
              "  <thead>\n",
              "    <tr style=\"text-align: right;\">\n",
              "      <th></th>\n",
              "      <th>Fare</th>\n",
              "    </tr>\n",
              "  </thead>\n",
              "  <tbody>\n",
              "    <tr>\n",
              "      <th>258</th>\n",
              "      <td>512.3292</td>\n",
              "    </tr>\n",
              "    <tr>\n",
              "      <th>679</th>\n",
              "      <td>512.3292</td>\n",
              "    </tr>\n",
              "    <tr>\n",
              "      <th>737</th>\n",
              "      <td>512.3292</td>\n",
              "    </tr>\n",
              "  </tbody>\n",
              "</table>\n",
              "</div>\n",
              "      <button class=\"colab-df-convert\" onclick=\"convertToInteractive('df-e7b29746-5a14-4ebe-b0fa-84a2520700ad')\"\n",
              "              title=\"Convert this dataframe to an interactive table.\"\n",
              "              style=\"display:none;\">\n",
              "        \n",
              "  <svg xmlns=\"http://www.w3.org/2000/svg\" height=\"24px\"viewBox=\"0 0 24 24\"\n",
              "       width=\"24px\">\n",
              "    <path d=\"M0 0h24v24H0V0z\" fill=\"none\"/>\n",
              "    <path d=\"M18.56 5.44l.94 2.06.94-2.06 2.06-.94-2.06-.94-.94-2.06-.94 2.06-2.06.94zm-11 1L8.5 8.5l.94-2.06 2.06-.94-2.06-.94L8.5 2.5l-.94 2.06-2.06.94zm10 10l.94 2.06.94-2.06 2.06-.94-2.06-.94-.94-2.06-.94 2.06-2.06.94z\"/><path d=\"M17.41 7.96l-1.37-1.37c-.4-.4-.92-.59-1.43-.59-.52 0-1.04.2-1.43.59L10.3 9.45l-7.72 7.72c-.78.78-.78 2.05 0 2.83L4 21.41c.39.39.9.59 1.41.59.51 0 1.02-.2 1.41-.59l7.78-7.78 2.81-2.81c.8-.78.8-2.07 0-2.86zM5.41 20L4 18.59l7.72-7.72 1.47 1.35L5.41 20z\"/>\n",
              "  </svg>\n",
              "      </button>\n",
              "      \n",
              "  <style>\n",
              "    .colab-df-container {\n",
              "      display:flex;\n",
              "      flex-wrap:wrap;\n",
              "      gap: 12px;\n",
              "    }\n",
              "\n",
              "    .colab-df-convert {\n",
              "      background-color: #E8F0FE;\n",
              "      border: none;\n",
              "      border-radius: 50%;\n",
              "      cursor: pointer;\n",
              "      display: none;\n",
              "      fill: #1967D2;\n",
              "      height: 32px;\n",
              "      padding: 0 0 0 0;\n",
              "      width: 32px;\n",
              "    }\n",
              "\n",
              "    .colab-df-convert:hover {\n",
              "      background-color: #E2EBFA;\n",
              "      box-shadow: 0px 1px 2px rgba(60, 64, 67, 0.3), 0px 1px 3px 1px rgba(60, 64, 67, 0.15);\n",
              "      fill: #174EA6;\n",
              "    }\n",
              "\n",
              "    [theme=dark] .colab-df-convert {\n",
              "      background-color: #3B4455;\n",
              "      fill: #D2E3FC;\n",
              "    }\n",
              "\n",
              "    [theme=dark] .colab-df-convert:hover {\n",
              "      background-color: #434B5C;\n",
              "      box-shadow: 0px 1px 3px 1px rgba(0, 0, 0, 0.15);\n",
              "      filter: drop-shadow(0px 1px 2px rgba(0, 0, 0, 0.3));\n",
              "      fill: #FFFFFF;\n",
              "    }\n",
              "  </style>\n",
              "\n",
              "      <script>\n",
              "        const buttonEl =\n",
              "          document.querySelector('#df-e7b29746-5a14-4ebe-b0fa-84a2520700ad button.colab-df-convert');\n",
              "        buttonEl.style.display =\n",
              "          google.colab.kernel.accessAllowed ? 'block' : 'none';\n",
              "\n",
              "        async function convertToInteractive(key) {\n",
              "          const element = document.querySelector('#df-e7b29746-5a14-4ebe-b0fa-84a2520700ad');\n",
              "          const dataTable =\n",
              "            await google.colab.kernel.invokeFunction('convertToInteractive',\n",
              "                                                     [key], {});\n",
              "          if (!dataTable) return;\n",
              "\n",
              "          const docLinkHtml = 'Like what you see? Visit the ' +\n",
              "            '<a target=\"_blank\" href=https://colab.research.google.com/notebooks/data_table.ipynb>data table notebook</a>'\n",
              "            + ' to learn more about interactive tables.';\n",
              "          element.innerHTML = '';\n",
              "          dataTable['output_type'] = 'display_data';\n",
              "          await google.colab.output.renderOutput(dataTable, element);\n",
              "          const docLink = document.createElement('div');\n",
              "          docLink.innerHTML = docLinkHtml;\n",
              "          element.appendChild(docLink);\n",
              "        }\n",
              "      </script>\n",
              "    </div>\n",
              "  </div>\n",
              "  "
            ]
          },
          "metadata": {},
          "execution_count": 293
        }
      ]
    },
    {
      "cell_type": "markdown",
      "source": [
        "# Drop Exceptions"
      ],
      "metadata": {
        "id": "8U3WlGXSnwJP"
      }
    },
    {
      "cell_type": "code",
      "source": [
        "train=train.drop(train[(train['Fare']>300)].index)\n",
        "sns.countplot(data=train[train['Fare']<300],x='Survived')"
      ],
      "metadata": {
        "colab": {
          "base_uri": "https://localhost:8080/",
          "height": 296
        },
        "id": "ZhYmbYWdnxJj",
        "outputId": "06e3ca4e-3295-4cb5-d55f-be10df48b3b2"
      },
      "execution_count": null,
      "outputs": [
        {
          "output_type": "execute_result",
          "data": {
            "text/plain": [
              "<matplotlib.axes._subplots.AxesSubplot at 0x7f3bf1c0a7d0>"
            ]
          },
          "metadata": {},
          "execution_count": 294
        },
        {
          "output_type": "display_data",
          "data": {
            "text/plain": [
              "<Figure size 432x288 with 1 Axes>"
            ],
            "image/png": "[encoded data removed]"
          },
          "metadata": {
            "needs_background": "light"
          }
        }
      ]
    },
    {
      "cell_type": "code",
      "source": [
        "train[train['Fare']>300]['Fare'].count()"
      ],
      "metadata": {
        "colab": {
          "base_uri": "https://localhost:8080/"
        },
        "id": "2E_sr1dKn3dM",
        "outputId": "7dbf3172-d0d7-414e-c045-cfe5adc8f1b7"
      },
      "execution_count": null,
      "outputs": [
        {
          "output_type": "execute_result",
          "data": {
            "text/plain": [
              "0"
            ]
          },
          "metadata": {},
          "execution_count": 295
        }
      ]
    },
    {
      "cell_type": "markdown",
      "source": [
        "# Check Missing Data"
      ],
      "metadata": {
        "id": "xKSdZdqkoFW1"
      }
    },
    {
      "cell_type": "code",
      "source": [
        "((train.isnull().sum())/len(train))*100"
      ],
      "metadata": {
        "colab": {
          "base_uri": "https://localhost:8080/"
        },
        "id": "zfp5BqIFoGXD",
        "outputId": "11f591d2-d668-4f0a-e487-183addf4cf1f"
      },
      "execution_count": null,
      "outputs": [
        {
          "output_type": "execute_result",
          "data": {
            "text/plain": [
              "Survived     0.000000\n",
              "Pclass       0.000000\n",
              "Name         0.000000\n",
              "Sex          0.000000\n",
              "Age         19.932432\n",
              "SibSp        0.000000\n",
              "Parch        0.000000\n",
              "Fare         0.000000\n",
              "Cabin       77.252252\n",
              "Embarked     0.225225\n",
              "dtype: float64"
            ]
          },
          "metadata": {},
          "execution_count": 296
        }
      ]
    },
    {
      "cell_type": "code",
      "source": [
        "((test.isnull().sum())/len(test))*100"
      ],
      "metadata": {
        "colab": {
          "base_uri": "https://localhost:8080/"
        },
        "id": "M9Rgwp7Y3XDC",
        "outputId": "ab68e73b-715f-4b91-e16c-dcdfe1ed90d8"
      },
      "execution_count": null,
      "outputs": [
        {
          "output_type": "execute_result",
          "data": {
            "text/plain": [
              "Pclass       0.000000\n",
              "Name         0.000000\n",
              "Sex          0.000000\n",
              "Age         20.574163\n",
              "SibSp        0.000000\n",
              "Parch        0.000000\n",
              "Fare         0.239234\n",
              "Cabin       78.229665\n",
              "Embarked     0.000000\n",
              "dtype: float64"
            ]
          },
          "metadata": {},
          "execution_count": 297
        }
      ]
    },
    {
      "cell_type": "code",
      "source": [
        "#lets fill 0.239% missing fare for test\n",
        "test[\"Fare\"].fillna(train[\"Fare\"].median(), inplace = True)"
      ],
      "metadata": {
        "id": "i5GAgkaY4GGg"
      },
      "execution_count": null,
      "outputs": []
    },
    {
      "cell_type": "markdown",
      "source": [
        "based on the missing percentage , we will :\n",
        "1) fill embarked with most popular value (if there is)\n",
        "\n",
        "2)  drop cabin because almost 80% are missing , so the value is useless for our model\n",
        "\n",
        "later , we are going to use Random forest regressor to predict the missing age values. "
      ],
      "metadata": {
        "id": "LjGVdVAioMzp"
      }
    },
    {
      "cell_type": "code",
      "source": [
        "missing_percent=((train.isnull().sum())/len(train))*100\n",
        "plt.figure(figsize=(12,6))\n",
        "sns.barplot(x=missing_percent.index , y=missing_percent)\n",
        "plt.xticks(rotation=90)"
      ],
      "metadata": {
        "colab": {
          "base_uri": "https://localhost:8080/",
          "height": 449
        },
        "id": "E8ESAgACoPYc",
        "outputId": "d5f3fe5b-fe88-4c3b-d422-7d6a818e1e2e"
      },
      "execution_count": null,
      "outputs": [
        {
          "output_type": "execute_result",
          "data": {
            "text/plain": [
              "(array([0, 1, 2, 3, 4, 5, 6, 7, 8, 9]),\n",
              " <a list of 10 Text major ticklabel objects>)"
            ]
          },
          "metadata": {},
          "execution_count": 299
        },
        {
          "output_type": "display_data",
          "data": {
            "text/plain": [
              "<Figure size 864x432 with 1 Axes>"
            ],
            "image/png": "[encoded data removed]"
          },
          "metadata": {
            "needs_background": "light"
          }
        }
      ]
    },
    {
      "cell_type": "markdown",
      "source": [
        "# Clean Data"
      ],
      "metadata": {
        "id": "lujjMM9boXuV"
      }
    },
    {
      "cell_type": "markdown",
      "source": [
        "1)"
      ],
      "metadata": {
        "id": "THEQWkEYoi_Z"
      }
    },
    {
      "cell_type": "code",
      "source": [
        "sns.countplot(data=train,x=train['Embarked'])"
      ],
      "metadata": {
        "colab": {
          "base_uri": "https://localhost:8080/",
          "height": 296
        },
        "id": "O363WeiroY0u",
        "outputId": "7b3c37b5-10e8-4a78-a407-992eb8e5f5f5"
      },
      "execution_count": null,
      "outputs": [
        {
          "output_type": "execute_result",
          "data": {
            "text/plain": [
              "<matplotlib.axes._subplots.AxesSubplot at 0x7f3bf1d94f10>"
            ]
          },
          "metadata": {},
          "execution_count": 300
        },
        {
          "output_type": "display_data",
          "data": {
            "text/plain": [
              "<Figure size 432x288 with 1 Axes>"
            ],
            "image/png": "[encoded data removed]"
          },
          "metadata": {
            "needs_background": "light"
          }
        }
      ]
    },
    {
      "cell_type": "code",
      "source": [
        "train['Embarked'].value_counts()"
      ],
      "metadata": {
        "colab": {
          "base_uri": "https://localhost:8080/"
        },
        "id": "vlrphu1_obGa",
        "outputId": "f25692a6-3113-425a-a18c-caa52e3f5ec7"
      },
      "execution_count": null,
      "outputs": [
        {
          "output_type": "execute_result",
          "data": {
            "text/plain": [
              "S    644\n",
              "C    165\n",
              "Q     77\n",
              "Name: Embarked, dtype: int64"
            ]
          },
          "metadata": {},
          "execution_count": 301
        }
      ]
    },
    {
      "cell_type": "code",
      "source": [
        "train['Embarked'].fillna(\"S\", inplace=True) \n",
        "test['Embarked'].fillna(\"S\", inplace=True) \n",
        "train['Embarked'].value_counts()"
      ],
      "metadata": {
        "colab": {
          "base_uri": "https://localhost:8080/"
        },
        "id": "8AMmHpwMocjV",
        "outputId": "eb246b41-814e-4272-b14d-c02f2c562a7c"
      },
      "execution_count": null,
      "outputs": [
        {
          "output_type": "execute_result",
          "data": {
            "text/plain": [
              "S    646\n",
              "C    165\n",
              "Q     77\n",
              "Name: Embarked, dtype: int64"
            ]
          },
          "metadata": {},
          "execution_count": 302
        }
      ]
    },
    {
      "cell_type": "markdown",
      "source": [
        "2)"
      ],
      "metadata": {
        "id": "ojlmqoQBom1q"
      }
    },
    {
      "cell_type": "code",
      "source": [
        "train.drop('Cabin',axis=1,inplace=True)\n",
        "test.drop('Cabin',axis=1,inplace=True)"
      ],
      "metadata": {
        "id": "HqBYAqDEofis"
      },
      "execution_count": null,
      "outputs": []
    },
    {
      "cell_type": "markdown",
      "source": [
        "let's see again the status of missing values"
      ],
      "metadata": {
        "id": "hDq4SZoIor70"
      }
    },
    {
      "cell_type": "code",
      "source": [
        "missing_percent=((train.isnull().sum())/len(train))*100\n",
        "plt.figure(figsize=(12,6))\n",
        "sns.barplot(x=missing_percent.index , y=missing_percent)\n",
        "plt.xticks(rotation=90)"
      ],
      "metadata": {
        "colab": {
          "base_uri": "https://localhost:8080/",
          "height": 449
        },
        "id": "dsIprRuyotyV",
        "outputId": "7fee1614-c7c7-404f-e5cc-51a207e246f7"
      },
      "execution_count": null,
      "outputs": [
        {
          "output_type": "execute_result",
          "data": {
            "text/plain": [
              "(array([0, 1, 2, 3, 4, 5, 6, 7, 8]),\n",
              " <a list of 9 Text major ticklabel objects>)"
            ]
          },
          "metadata": {},
          "execution_count": 304
        },
        {
          "output_type": "display_data",
          "data": {
            "text/plain": [
              "<Figure size 864x432 with 1 Axes>"
            ],
            "image/png": "[encoded data removed]"
          },
          "metadata": {
            "needs_background": "light"
          }
        }
      ]
    },
    {
      "cell_type": "markdown",
      "source": [
        "Great! , now we can work on our features , create hyperparameters before we get to training!"
      ],
      "metadata": {
        "id": "5eDejLLho3nc"
      }
    },
    {
      "cell_type": "markdown",
      "source": [
        "# Feature Engineering"
      ],
      "metadata": {
        "id": "HFPOYv_fo4q1"
      }
    },
    {
      "cell_type": "markdown",
      "source": [
        "we want to create extra features from with in the features that we have, sometimes we want to remove features that are alike. Features engineering is the simple word for doing all those. It is important to remember that we will create new features in such ways that will not cause multicollinearity(when there is a relationship among independent variables)"
      ],
      "metadata": {
        "id": "H55xqz70pSKk"
      }
    },
    {
      "cell_type": "markdown",
      "source": [
        "first we will create a new feature , name_length -> an integer that represents the length of the passenger's name"
      ],
      "metadata": {
        "id": "JvYozA4epTps"
      }
    },
    {
      "cell_type": "code",
      "source": [
        "# Creating a new colomn with a \n",
        "train['name_length'] = [len(i) for i in train.Name]\n",
        "test['name_length'] = [len(i) for i in test.Name]\n",
        "\n",
        "def name_length_group(size):\n",
        "    a = ''\n",
        "    if (size <=20):\n",
        "        a = 'short'\n",
        "    elif (size <=35):\n",
        "        a = 'medium'\n",
        "    elif (size <=45):\n",
        "        a = 'good'\n",
        "    else:\n",
        "        a = 'long'\n",
        "    return a\n",
        "\n",
        "\n",
        "train['nLength_group'] = train['name_length'].map(name_length_group)\n",
        "test['nLength_group'] = test['name_length'].map(name_length_group)"
      ],
      "metadata": {
        "id": "Lt-valj4o4Sv"
      },
      "execution_count": null,
      "outputs": []
    },
    {
      "cell_type": "markdown",
      "source": [
        "check status of train info before we can continue"
      ],
      "metadata": {
        "id": "tM7XWxuRqboD"
      }
    },
    {
      "cell_type": "code",
      "source": [
        "train.info() "
      ],
      "metadata": {
        "colab": {
          "base_uri": "https://localhost:8080/"
        },
        "id": "aw6JKj-TqTRf",
        "outputId": "525ab187-7d23-451b-dbf1-6bf4dee92d22"
      },
      "execution_count": null,
      "outputs": [
        {
          "output_type": "stream",
          "name": "stdout",
          "text": [
            "<class 'pandas.core.frame.DataFrame'>\n",
            "Int64Index: 888 entries, 0 to 890\n",
            "Data columns (total 11 columns):\n",
            " #   Column         Non-Null Count  Dtype  \n",
            "---  ------         --------------  -----  \n",
            " 0   Survived       888 non-null    int64  \n",
            " 1   Pclass         888 non-null    int64  \n",
            " 2   Name           888 non-null    object \n",
            " 3   Sex            888 non-null    object \n",
            " 4   Age            711 non-null    float64\n",
            " 5   SibSp          888 non-null    int64  \n",
            " 6   Parch          888 non-null    int64  \n",
            " 7   Fare           888 non-null    float64\n",
            " 8   Embarked       888 non-null    object \n",
            " 9   name_length    888 non-null    int64  \n",
            " 10  nLength_group  888 non-null    object \n",
            "dtypes: float64(2), int64(5), object(4)\n",
            "memory usage: 115.5+ KB\n"
          ]
        }
      ]
    },
    {
      "cell_type": "code",
      "source": [
        "train[\"title\"] = [i.split('.')[0] for i in train.Name]\n",
        "train[\"title\"] = [i.split(',')[1] for i in train.title]"
      ],
      "metadata": {
        "id": "NlE6N3iJqgJ_"
      },
      "execution_count": null,
      "outputs": []
    },
    {
      "cell_type": "code",
      "source": [
        "train.title.unique()"
      ],
      "metadata": {
        "colab": {
          "base_uri": "https://localhost:8080/"
        },
        "id": "3FrW8c9Nq26z",
        "outputId": "2a87905f-5b65-49ef-8b6a-f468129c6fe7"
      },
      "execution_count": null,
      "outputs": [
        {
          "output_type": "execute_result",
          "data": {
            "text/plain": [
              "array([' Mr', ' Mrs', ' Miss', ' Master', ' Don', ' Rev', ' Dr', ' Mme',\n",
              "       ' Ms', ' Major', ' Lady', ' Sir', ' Mlle', ' Col', ' Capt',\n",
              "       ' the Countess', ' Jonkheer'], dtype=object)"
            ]
          },
          "metadata": {},
          "execution_count": 308
        }
      ]
    },
    {
      "cell_type": "markdown",
      "source": [
        "we now want to replace those titles because some of them have the same meaning."
      ],
      "metadata": {
        "id": "0IzI7zVvrGBb"
      }
    },
    {
      "cell_type": "code",
      "source": [
        "\n",
        "train.title = train.title.apply(lambda x: x.strip())\n",
        "test['title'] = [i.split('.')[0].split(',')[1].strip() for i in test.Name]"
      ],
      "metadata": {
        "id": "eH46Ali3rQm4"
      },
      "execution_count": null,
      "outputs": []
    },
    {
      "cell_type": "code",
      "source": [
        "train[\"title\"] = [i.replace('Ms', 'Miss') for i in train.title]\n",
        "train[\"title\"] = [i.replace('Mlle', 'Miss') for i in train.title]\n",
        "train[\"title\"] = [i.replace('Mme', 'Mrs') for i in train.title]\n",
        "train[\"title\"] = [i.replace('Dr', 'rare') for i in train.title]\n",
        "train[\"title\"] = [i.replace('Col', 'rare') for i in train.title]\n",
        "train[\"title\"] = [i.replace('Major', 'rare') for i in train.title]\n",
        "train[\"title\"] = [i.replace('Don', 'rare') for i in train.title]\n",
        "train[\"title\"] = [i.replace('Jonkheer', 'rare') for i in train.title]\n",
        "train[\"title\"] = [i.replace('Sir', 'rare') for i in train.title]\n",
        "train[\"title\"] = [i.replace('Lady', 'rare') for i in train.title]\n",
        "train[\"title\"] = [i.replace('Capt', 'rare') for i in train.title]\n",
        "train[\"title\"] = [i.replace('the Countess', 'rare') for i in train.title]\n",
        "train[\"title\"] = [i.replace('Rev', 'rare') for i in train.title]"
      ],
      "metadata": {
        "id": "pThwoRmYrYwc"
      },
      "execution_count": null,
      "outputs": []
    },
    {
      "cell_type": "code",
      "source": [
        "def name_converted(feature):\n",
        "    \"\"\"\n",
        "    This function helps modifying the title column\n",
        "    \"\"\"\n",
        "    \n",
        "    result = ''\n",
        "    if feature in ['the Countess','Capt','Lady','Sir','Jonkheer','Don','Major','Col', 'Rev', 'Dona', 'Dr']:\n",
        "        result = 'rare'\n",
        "    elif feature in ['Ms', 'Mlle']:\n",
        "        result = 'Miss'\n",
        "    elif feature == 'Mme':\n",
        "        result = 'Mrs'\n",
        "    else:\n",
        "        result = feature\n",
        "    return result\n",
        "\n",
        "test.title = test.title.map(name_converted)\n",
        "train.title = train.title.map(name_converted)"
      ],
      "metadata": {
        "id": "da5lLIC_rkcS"
      },
      "execution_count": null,
      "outputs": []
    },
    {
      "cell_type": "code",
      "source": [
        "train.title.unique()\n"
      ],
      "metadata": {
        "colab": {
          "base_uri": "https://localhost:8080/"
        },
        "id": "jIS3USvIrmto",
        "outputId": "ea6f783f-67e2-4bbb-fe20-e152cfd4d735"
      },
      "execution_count": null,
      "outputs": [
        {
          "output_type": "execute_result",
          "data": {
            "text/plain": [
              "array(['Mr', 'Mrs', 'Miss', 'Master', 'rare'], dtype=object)"
            ]
          },
          "metadata": {},
          "execution_count": 312
        }
      ]
    },
    {
      "cell_type": "code",
      "source": [
        "test.title.unique()"
      ],
      "metadata": {
        "colab": {
          "base_uri": "https://localhost:8080/"
        },
        "id": "lkyudgUkrp9M",
        "outputId": "49c93d40-c909-4dad-fe8c-a4fe027ce716"
      },
      "execution_count": null,
      "outputs": [
        {
          "output_type": "execute_result",
          "data": {
            "text/plain": [
              "array(['Mr', 'Mrs', 'Miss', 'Master', 'rare'], dtype=object)"
            ]
          },
          "metadata": {},
          "execution_count": 313
        }
      ]
    },
    {
      "cell_type": "markdown",
      "source": [
        "now we will create a new feature , called 'family size' -> length of the passenger's family on the ship"
      ],
      "metadata": {
        "id": "UsmpgQW2rxJ_"
      }
    },
    {
      "cell_type": "code",
      "source": [
        "train['family_size'] = train.SibSp + train.Parch+1\n",
        "test['family_size'] = test.SibSp + test.Parch+1"
      ],
      "metadata": {
        "id": "IfRgTJBGr3sh"
      },
      "execution_count": null,
      "outputs": []
    },
    {
      "cell_type": "code",
      "source": [
        "def family_group(size):\n",
        "    \"\"\"\n",
        "    This funciton groups(loner, small, large) family based on family size\n",
        "    \"\"\"\n",
        "    \n",
        "    a = ''\n",
        "    if (size <= 1):\n",
        "        a = 'loner'\n",
        "    elif (size <= 4):\n",
        "        a = 'small'\n",
        "    else:\n",
        "        a = 'large'\n",
        "    return a"
      ],
      "metadata": {
        "id": "zUWp7FBAr6-K"
      },
      "execution_count": null,
      "outputs": []
    },
    {
      "cell_type": "code",
      "source": [
        "train['family_group'] = train['family_size'].map(family_group)\n",
        "test['family_group'] = test['family_size'].map(family_group)"
      ],
      "metadata": {
        "id": "iuysFzHer9X9"
      },
      "execution_count": null,
      "outputs": []
    },
    {
      "cell_type": "markdown",
      "source": [
        "now lets create a numeric feature for if the passenger is alone or not"
      ],
      "metadata": {
        "id": "H9QgI_XAsFng"
      }
    },
    {
      "cell_type": "code",
      "source": [
        "train['is_alone'] = [1 if i<2 else 0 for i in train.family_size]\n",
        "test['is_alone'] = [1 if i<2 else 0 for i in test.family_size]"
      ],
      "metadata": {
        "id": "dYuwKpV1sKIZ"
      },
      "execution_count": null,
      "outputs": []
    },
    {
      "cell_type": "markdown",
      "source": [
        "now we can add a feature like 'calculated_fare' , since it seems that our data collects fare for a group (family) rather than for an individual , we shall add a feature for that purpose"
      ],
      "metadata": {
        "id": "jQPA7SV6tPxO"
      }
    },
    {
      "cell_type": "code",
      "source": [
        "train['calculated_fare'] = train.Fare/train.family_size\n",
        "test['calculated_fare'] = test.Fare/test.family_size"
      ],
      "metadata": {
        "id": "lgsko7YCtfDQ"
      },
      "execution_count": null,
      "outputs": []
    },
    {
      "cell_type": "markdown",
      "source": [
        "in addition , lets create fare_group , derives from fare"
      ],
      "metadata": {
        "id": "gACHUU7Atr3N"
      }
    },
    {
      "cell_type": "code",
      "source": [
        "def fare_group(fare):\n",
        "    \"\"\"\n",
        "    This function creates a fare group based on the fare provided\n",
        "    \"\"\"\n",
        "    \n",
        "    a= ''\n",
        "    if fare <= 4:\n",
        "        a = 'Very_low'\n",
        "    elif fare <= 10:\n",
        "        a = 'low'\n",
        "    elif fare <= 20:\n",
        "        a = 'mid'\n",
        "    elif fare <= 45:\n",
        "        a = 'high'\n",
        "    else:\n",
        "        a = \"very_high\"\n",
        "    return a\n",
        "\n",
        "train['fare_group'] = train['calculated_fare'].map(fare_group)\n",
        "test['fare_group'] = test['calculated_fare'].map(fare_group)"
      ],
      "metadata": {
        "id": "HjNRZPBZtv0-"
      },
      "execution_count": null,
      "outputs": []
    },
    {
      "cell_type": "code",
      "source": [
        "train.info()"
      ],
      "metadata": {
        "colab": {
          "base_uri": "https://localhost:8080/"
        },
        "id": "mfUHzTX5u78s",
        "outputId": "a68cf9d2-0510-4816-9620-115d5894a52d"
      },
      "execution_count": null,
      "outputs": [
        {
          "output_type": "stream",
          "name": "stdout",
          "text": [
            "<class 'pandas.core.frame.DataFrame'>\n",
            "Int64Index: 888 entries, 0 to 890\n",
            "Data columns (total 17 columns):\n",
            " #   Column           Non-Null Count  Dtype  \n",
            "---  ------           --------------  -----  \n",
            " 0   Survived         888 non-null    int64  \n",
            " 1   Pclass           888 non-null    int64  \n",
            " 2   Name             888 non-null    object \n",
            " 3   Sex              888 non-null    object \n",
            " 4   Age              711 non-null    float64\n",
            " 5   SibSp            888 non-null    int64  \n",
            " 6   Parch            888 non-null    int64  \n",
            " 7   Fare             888 non-null    float64\n",
            " 8   Embarked         888 non-null    object \n",
            " 9   name_length      888 non-null    int64  \n",
            " 10  nLength_group    888 non-null    object \n",
            " 11  title            888 non-null    object \n",
            " 12  family_size      888 non-null    int64  \n",
            " 13  family_group     888 non-null    object \n",
            " 14  is_alone         888 non-null    int64  \n",
            " 15  calculated_fare  888 non-null    float64\n",
            " 16  fare_group       888 non-null    object \n",
            "dtypes: float64(3), int64(7), object(7)\n",
            "memory usage: 157.2+ KB\n"
          ]
        }
      ]
    },
    {
      "cell_type": "markdown",
      "source": [
        "as a reminder , we dropped passengerID and Ticket earlier , it seems there is nothing useful we can get from those features.\n",
        "\n",
        "however , its time to deal with the missing values for column age"
      ],
      "metadata": {
        "id": "NlpArtNRt0Lh"
      }
    },
    {
      "cell_type": "code",
      "source": [
        "train.head()"
      ],
      "metadata": {
        "colab": {
          "base_uri": "https://localhost:8080/",
          "height": 548
        },
        "id": "XjFC0sOJvY8m",
        "outputId": "53270b66-f04d-45a7-b99c-ce2073203a98"
      },
      "execution_count": null,
      "outputs": [
        {
          "output_type": "execute_result",
          "data": {
            "text/plain": [
              "   Survived  Pclass                                               Name  \\\n",
              "0         0       3                            Braund, Mr. Owen Harris   \n",
              "1         1       1  Cumings, Mrs. John Bradley (Florence Briggs Th...   \n",
              "2         1       3                             Heikkinen, Miss. Laina   \n",
              "3         1       1       Futrelle, Mrs. Jacques Heath (Lily May Peel)   \n",
              "4         0       3                           Allen, Mr. William Henry   \n",
              "\n",
              "      Sex   Age  SibSp  Parch     Fare Embarked  name_length nLength_group  \\\n",
              "0    male  22.0      1      0   7.2500        S           23        medium   \n",
              "1  female  38.0      1      0  71.2833        C           51          long   \n",
              "2  female  26.0      0      0   7.9250        S           22        medium   \n",
              "3  female  35.0      1      0  53.1000        S           44          good   \n",
              "4    male  35.0      0      0   8.0500        S           24        medium   \n",
              "\n",
              "  title  family_size family_group  is_alone  calculated_fare fare_group  \n",
              "0    Mr            2        small         0          3.62500   Very_low  \n",
              "1   Mrs            2        small         0         35.64165       high  \n",
              "2  Miss            1        loner         1          7.92500        low  \n",
              "3   Mrs            2        small         0         26.55000       high  \n",
              "4    Mr            1        loner         1          8.05000        low  "
            ],
            "text/html": [
              "\n",
              "  <div id=\"df-e610d4f6-9bbd-4082-be99-e176927cb46b\">\n",
              "    <div class=\"colab-df-container\">\n",
              "      <div>\n",
              "<style scoped>\n",
              "    .dataframe tbody tr th:only-of-type {\n",
              "        vertical-align: middle;\n",
              "    }\n",
              "\n",
              "    .dataframe tbody tr th {\n",
              "        vertical-align: top;\n",
              "    }\n",
              "\n",
              "    .dataframe thead th {\n",
              "        text-align: right;\n",
              "    }\n",
              "</style>\n",
              "<table border=\"1\" class=\"dataframe\">\n",
              "  <thead>\n",
              "    <tr style=\"text-align: right;\">\n",
              "      <th></th>\n",
              "      <th>Survived</th>\n",
              "      <th>Pclass</th>\n",
              "      <th>Name</th>\n",
              "      <th>Sex</th>\n",
              "      <th>Age</th>\n",
              "      <th>SibSp</th>\n",
              "      <th>Parch</th>\n",
              "      <th>Fare</th>\n",
              "      <th>Embarked</th>\n",
              "      <th>name_length</th>\n",
              "      <th>nLength_group</th>\n",
              "      <th>title</th>\n",
              "      <th>family_size</th>\n",
              "      <th>family_group</th>\n",
              "      <th>is_alone</th>\n",
              "      <th>calculated_fare</th>\n",
              "      <th>fare_group</th>\n",
              "    </tr>\n",
              "  </thead>\n",
              "  <tbody>\n",
              "    <tr>\n",
              "      <th>0</th>\n",
              "      <td>0</td>\n",
              "      <td>3</td>\n",
              "      <td>Braund, Mr. Owen Harris</td>\n",
              "      <td>male</td>\n",
              "      <td>22.0</td>\n",
              "      <td>1</td>\n",
              "      <td>0</td>\n",
              "      <td>7.2500</td>\n",
              "      <td>S</td>\n",
              "      <td>23</td>\n",
              "      <td>medium</td>\n",
              "      <td>Mr</td>\n",
              "      <td>2</td>\n",
              "      <td>small</td>\n",
              "      <td>0</td>\n",
              "      <td>3.62500</td>\n",
              "      <td>Very_low</td>\n",
              "    </tr>\n",
              "    <tr>\n",
              "      <th>1</th>\n",
              "      <td>1</td>\n",
              "      <td>1</td>\n",
              "      <td>Cumings, Mrs. John Bradley (Florence Briggs Th...</td>\n",
              "      <td>female</td>\n",
              "      <td>38.0</td>\n",
              "      <td>1</td>\n",
              "      <td>0</td>\n",
              "      <td>71.2833</td>\n",
              "      <td>C</td>\n",
              "      <td>51</td>\n",
              "      <td>long</td>\n",
              "      <td>Mrs</td>\n",
              "      <td>2</td>\n",
              "      <td>small</td>\n",
              "      <td>0</td>\n",
              "      <td>35.64165</td>\n",
              "      <td>high</td>\n",
              "    </tr>\n",
              "    <tr>\n",
              "      <th>2</th>\n",
              "      <td>1</td>\n",
              "      <td>3</td>\n",
              "      <td>Heikkinen, Miss. Laina</td>\n",
              "      <td>female</td>\n",
              "      <td>26.0</td>\n",
              "      <td>0</td>\n",
              "      <td>0</td>\n",
              "      <td>7.9250</td>\n",
              "      <td>S</td>\n",
              "      <td>22</td>\n",
              "      <td>medium</td>\n",
              "      <td>Miss</td>\n",
              "      <td>1</td>\n",
              "      <td>loner</td>\n",
              "      <td>1</td>\n",
              "      <td>7.92500</td>\n",
              "      <td>low</td>\n",
              "    </tr>\n",
              "    <tr>\n",
              "      <th>3</th>\n",
              "      <td>1</td>\n",
              "      <td>1</td>\n",
              "      <td>Futrelle, Mrs. Jacques Heath (Lily May Peel)</td>\n",
              "      <td>female</td>\n",
              "      <td>35.0</td>\n",
              "      <td>1</td>\n",
              "      <td>0</td>\n",
              "      <td>53.1000</td>\n",
              "      <td>S</td>\n",
              "      <td>44</td>\n",
              "      <td>good</td>\n",
              "      <td>Mrs</td>\n",
              "      <td>2</td>\n",
              "      <td>small</td>\n",
              "      <td>0</td>\n",
              "      <td>26.55000</td>\n",
              "      <td>high</td>\n",
              "    </tr>\n",
              "    <tr>\n",
              "      <th>4</th>\n",
              "      <td>0</td>\n",
              "      <td>3</td>\n",
              "      <td>Allen, Mr. William Henry</td>\n",
              "      <td>male</td>\n",
              "      <td>35.0</td>\n",
              "      <td>0</td>\n",
              "      <td>0</td>\n",
              "      <td>8.0500</td>\n",
              "      <td>S</td>\n",
              "      <td>24</td>\n",
              "      <td>medium</td>\n",
              "      <td>Mr</td>\n",
              "      <td>1</td>\n",
              "      <td>loner</td>\n",
              "      <td>1</td>\n",
              "      <td>8.05000</td>\n",
              "      <td>low</td>\n",
              "    </tr>\n",
              "  </tbody>\n",
              "</table>\n",
              "</div>\n",
              "      <button class=\"colab-df-convert\" onclick=\"convertToInteractive('df-e610d4f6-9bbd-4082-be99-e176927cb46b')\"\n",
              "              title=\"Convert this dataframe to an interactive table.\"\n",
              "              style=\"display:none;\">\n",
              "        \n",
              "  <svg xmlns=\"http://www.w3.org/2000/svg\" height=\"24px\"viewBox=\"0 0 24 24\"\n",
              "       width=\"24px\">\n",
              "    <path d=\"M0 0h24v24H0V0z\" fill=\"none\"/>\n",
              "    <path d=\"M18.56 5.44l.94 2.06.94-2.06 2.06-.94-2.06-.94-.94-2.06-.94 2.06-2.06.94zm-11 1L8.5 8.5l.94-2.06 2.06-.94-2.06-.94L8.5 2.5l-.94 2.06-2.06.94zm10 10l.94 2.06.94-2.06 2.06-.94-2.06-.94-.94-2.06-.94 2.06-2.06.94z\"/><path d=\"M17.41 7.96l-1.37-1.37c-.4-.4-.92-.59-1.43-.59-.52 0-1.04.2-1.43.59L10.3 9.45l-7.72 7.72c-.78.78-.78 2.05 0 2.83L4 21.41c.39.39.9.59 1.41.59.51 0 1.02-.2 1.41-.59l7.78-7.78 2.81-2.81c.8-.78.8-2.07 0-2.86zM5.41 20L4 18.59l7.72-7.72 1.47 1.35L5.41 20z\"/>\n",
              "  </svg>\n",
              "      </button>\n",
              "      \n",
              "  <style>\n",
              "    .colab-df-container {\n",
              "      display:flex;\n",
              "      flex-wrap:wrap;\n",
              "      gap: 12px;\n",
              "    }\n",
              "\n",
              "    .colab-df-convert {\n",
              "      background-color: #E8F0FE;\n",
              "      border: none;\n",
              "      border-radius: 50%;\n",
              "      cursor: pointer;\n",
              "      display: none;\n",
              "      fill: #1967D2;\n",
              "      height: 32px;\n",
              "      padding: 0 0 0 0;\n",
              "      width: 32px;\n",
              "    }\n",
              "\n",
              "    .colab-df-convert:hover {\n",
              "      background-color: #E2EBFA;\n",
              "      box-shadow: 0px 1px 2px rgba(60, 64, 67, 0.3), 0px 1px 3px 1px rgba(60, 64, 67, 0.15);\n",
              "      fill: #174EA6;\n",
              "    }\n",
              "\n",
              "    [theme=dark] .colab-df-convert {\n",
              "      background-color: #3B4455;\n",
              "      fill: #D2E3FC;\n",
              "    }\n",
              "\n",
              "    [theme=dark] .colab-df-convert:hover {\n",
              "      background-color: #434B5C;\n",
              "      box-shadow: 0px 1px 3px 1px rgba(0, 0, 0, 0.15);\n",
              "      filter: drop-shadow(0px 1px 2px rgba(0, 0, 0, 0.3));\n",
              "      fill: #FFFFFF;\n",
              "    }\n",
              "  </style>\n",
              "\n",
              "      <script>\n",
              "        const buttonEl =\n",
              "          document.querySelector('#df-e610d4f6-9bbd-4082-be99-e176927cb46b button.colab-df-convert');\n",
              "        buttonEl.style.display =\n",
              "          google.colab.kernel.accessAllowed ? 'block' : 'none';\n",
              "\n",
              "        async function convertToInteractive(key) {\n",
              "          const element = document.querySelector('#df-e610d4f6-9bbd-4082-be99-e176927cb46b');\n",
              "          const dataTable =\n",
              "            await google.colab.kernel.invokeFunction('convertToInteractive',\n",
              "                                                     [key], {});\n",
              "          if (!dataTable) return;\n",
              "\n",
              "          const docLinkHtml = 'Like what you see? Visit the ' +\n",
              "            '<a target=\"_blank\" href=https://colab.research.google.com/notebooks/data_table.ipynb>data table notebook</a>'\n",
              "            + ' to learn more about interactive tables.';\n",
              "          element.innerHTML = '';\n",
              "          dataTable['output_type'] = 'display_data';\n",
              "          await google.colab.output.renderOutput(dataTable, element);\n",
              "          const docLink = document.createElement('div');\n",
              "          docLink.innerHTML = docLinkHtml;\n",
              "          element.appendChild(docLink);\n",
              "        }\n",
              "      </script>\n",
              "    </div>\n",
              "  </div>\n",
              "  "
            ]
          },
          "metadata": {},
          "execution_count": 321
        }
      ]
    },
    {
      "cell_type": "markdown",
      "source": [
        "transform label 'Sex' to numeric from categorical"
      ],
      "metadata": {
        "id": "daow0MepwDKB"
      }
    },
    {
      "cell_type": "code",
      "source": [
        "test['Sex']=test['Sex'].replace({'male':0,'female':1})\n",
        "train['Sex']=train['Sex'].replace({'male':0,'female':1})"
      ],
      "metadata": {
        "id": "2YleSLSwwCDA"
      },
      "execution_count": null,
      "outputs": []
    },
    {
      "cell_type": "markdown",
      "source": [
        "# Creating Dummies"
      ],
      "metadata": {
        "id": "TJkS4EoEwPjK"
      }
    },
    {
      "cell_type": "code",
      "source": [
        "train = pd.get_dummies(train, columns=['title',\"Pclass\", 'Embarked','nLength_group', 'family_group', 'fare_group'], drop_first=False)\n",
        "test = pd.get_dummies(test, columns=['title',\"Pclass\",'Embarked','nLength_group', 'family_group', 'fare_group'], drop_first=False)\n",
        "train.drop(['family_size','Name', 'Fare','name_length'], axis=1, inplace=True)\n",
        "test.drop(['Name','family_size',\"Fare\",'name_length'], axis=1, inplace=True)"
      ],
      "metadata": {
        "id": "l79KOc50wPY2"
      },
      "execution_count": null,
      "outputs": []
    },
    {
      "cell_type": "code",
      "source": [
        "train.head()"
      ],
      "metadata": {
        "colab": {
          "base_uri": "https://localhost:8080/",
          "height": 300
        },
        "id": "n_eD66o6wk6Y",
        "outputId": "b1448923-398b-4544-9bd8-db8ee45c1ca9"
      },
      "execution_count": null,
      "outputs": [
        {
          "output_type": "execute_result",
          "data": {
            "text/plain": [
              "   Survived  Sex   Age  SibSp  Parch  is_alone  calculated_fare  title_Master  \\\n",
              "0         0    0  22.0      1      0         0          3.62500             0   \n",
              "1         1    1  38.0      1      0         0         35.64165             0   \n",
              "2         1    1  26.0      0      0         1          7.92500             0   \n",
              "3         1    1  35.0      1      0         0         26.55000             0   \n",
              "4         0    0  35.0      0      0         1          8.05000             0   \n",
              "\n",
              "   title_Miss  title_Mr  ...  nLength_group_medium  nLength_group_short  \\\n",
              "0           0         1  ...                     1                    0   \n",
              "1           0         0  ...                     0                    0   \n",
              "2           1         0  ...                     1                    0   \n",
              "3           0         0  ...                     0                    0   \n",
              "4           0         1  ...                     1                    0   \n",
              "\n",
              "   family_group_large  family_group_loner  family_group_small  \\\n",
              "0                   0                   0                   1   \n",
              "1                   0                   0                   1   \n",
              "2                   0                   1                   0   \n",
              "3                   0                   0                   1   \n",
              "4                   0                   1                   0   \n",
              "\n",
              "   fare_group_Very_low  fare_group_high  fare_group_low  fare_group_mid  \\\n",
              "0                    1                0               0               0   \n",
              "1                    0                1               0               0   \n",
              "2                    0                0               1               0   \n",
              "3                    0                1               0               0   \n",
              "4                    0                0               1               0   \n",
              "\n",
              "   fare_group_very_high  \n",
              "0                     0  \n",
              "1                     0  \n",
              "2                     0  \n",
              "3                     0  \n",
              "4                     0  \n",
              "\n",
              "[5 rows x 30 columns]"
            ],
            "text/html": [
              "\n",
              "  <div id=\"df-5a3a95e9-56a7-484e-8c1a-91af31dd502f\">\n",
              "    <div class=\"colab-df-container\">\n",
              "      <div>\n",
              "<style scoped>\n",
              "    .dataframe tbody tr th:only-of-type {\n",
              "        vertical-align: middle;\n",
              "    }\n",
              "\n",
              "    .dataframe tbody tr th {\n",
              "        vertical-align: top;\n",
              "    }\n",
              "\n",
              "    .dataframe thead th {\n",
              "        text-align: right;\n",
              "    }\n",
              "</style>\n",
              "<table border=\"1\" class=\"dataframe\">\n",
              "  <thead>\n",
              "    <tr style=\"text-align: right;\">\n",
              "      <th></th>\n",
              "      <th>Survived</th>\n",
              "      <th>Sex</th>\n",
              "      <th>Age</th>\n",
              "      <th>SibSp</th>\n",
              "      <th>Parch</th>\n",
              "      <th>is_alone</th>\n",
              "      <th>calculated_fare</th>\n",
              "      <th>title_Master</th>\n",
              "      <th>title_Miss</th>\n",
              "      <th>title_Mr</th>\n",
              "      <th>...</th>\n",
              "      <th>nLength_group_medium</th>\n",
              "      <th>nLength_group_short</th>\n",
              "      <th>family_group_large</th>\n",
              "      <th>family_group_loner</th>\n",
              "      <th>family_group_small</th>\n",
              "      <th>fare_group_Very_low</th>\n",
              "      <th>fare_group_high</th>\n",
              "      <th>fare_group_low</th>\n",
              "      <th>fare_group_mid</th>\n",
              "      <th>fare_group_very_high</th>\n",
              "    </tr>\n",
              "  </thead>\n",
              "  <tbody>\n",
              "    <tr>\n",
              "      <th>0</th>\n",
              "      <td>0</td>\n",
              "      <td>0</td>\n",
              "      <td>22.0</td>\n",
              "      <td>1</td>\n",
              "      <td>0</td>\n",
              "      <td>0</td>\n",
              "      <td>3.62500</td>\n",
              "      <td>0</td>\n",
              "      <td>0</td>\n",
              "      <td>1</td>\n",
              "      <td>...</td>\n",
              "      <td>1</td>\n",
              "      <td>0</td>\n",
              "      <td>0</td>\n",
              "      <td>0</td>\n",
              "      <td>1</td>\n",
              "      <td>1</td>\n",
              "      <td>0</td>\n",
              "      <td>0</td>\n",
              "      <td>0</td>\n",
              "      <td>0</td>\n",
              "    </tr>\n",
              "    <tr>\n",
              "      <th>1</th>\n",
              "      <td>1</td>\n",
              "      <td>1</td>\n",
              "      <td>38.0</td>\n",
              "      <td>1</td>\n",
              "      <td>0</td>\n",
              "      <td>0</td>\n",
              "      <td>35.64165</td>\n",
              "      <td>0</td>\n",
              "      <td>0</td>\n",
              "      <td>0</td>\n",
              "      <td>...</td>\n",
              "      <td>0</td>\n",
              "      <td>0</td>\n",
              "      <td>0</td>\n",
              "      <td>0</td>\n",
              "      <td>1</td>\n",
              "      <td>0</td>\n",
              "      <td>1</td>\n",
              "      <td>0</td>\n",
              "      <td>0</td>\n",
              "      <td>0</td>\n",
              "    </tr>\n",
              "    <tr>\n",
              "      <th>2</th>\n",
              "      <td>1</td>\n",
              "      <td>1</td>\n",
              "      <td>26.0</td>\n",
              "      <td>0</td>\n",
              "      <td>0</td>\n",
              "      <td>1</td>\n",
              "      <td>7.92500</td>\n",
              "      <td>0</td>\n",
              "      <td>1</td>\n",
              "      <td>0</td>\n",
              "      <td>...</td>\n",
              "      <td>1</td>\n",
              "      <td>0</td>\n",
              "      <td>0</td>\n",
              "      <td>1</td>\n",
              "      <td>0</td>\n",
              "      <td>0</td>\n",
              "      <td>0</td>\n",
              "      <td>1</td>\n",
              "      <td>0</td>\n",
              "      <td>0</td>\n",
              "    </tr>\n",
              "    <tr>\n",
              "      <th>3</th>\n",
              "      <td>1</td>\n",
              "      <td>1</td>\n",
              "      <td>35.0</td>\n",
              "      <td>1</td>\n",
              "      <td>0</td>\n",
              "      <td>0</td>\n",
              "      <td>26.55000</td>\n",
              "      <td>0</td>\n",
              "      <td>0</td>\n",
              "      <td>0</td>\n",
              "      <td>...</td>\n",
              "      <td>0</td>\n",
              "      <td>0</td>\n",
              "      <td>0</td>\n",
              "      <td>0</td>\n",
              "      <td>1</td>\n",
              "      <td>0</td>\n",
              "      <td>1</td>\n",
              "      <td>0</td>\n",
              "      <td>0</td>\n",
              "      <td>0</td>\n",
              "    </tr>\n",
              "    <tr>\n",
              "      <th>4</th>\n",
              "      <td>0</td>\n",
              "      <td>0</td>\n",
              "      <td>35.0</td>\n",
              "      <td>0</td>\n",
              "      <td>0</td>\n",
              "      <td>1</td>\n",
              "      <td>8.05000</td>\n",
              "      <td>0</td>\n",
              "      <td>0</td>\n",
              "      <td>1</td>\n",
              "      <td>...</td>\n",
              "      <td>1</td>\n",
              "      <td>0</td>\n",
              "      <td>0</td>\n",
              "      <td>1</td>\n",
              "      <td>0</td>\n",
              "      <td>0</td>\n",
              "      <td>0</td>\n",
              "      <td>1</td>\n",
              "      <td>0</td>\n",
              "      <td>0</td>\n",
              "    </tr>\n",
              "  </tbody>\n",
              "</table>\n",
              "<p>5 rows × 30 columns</p>\n",
              "</div>\n",
              "      <button class=\"colab-df-convert\" onclick=\"convertToInteractive('df-5a3a95e9-56a7-484e-8c1a-91af31dd502f')\"\n",
              "              title=\"Convert this dataframe to an interactive table.\"\n",
              "              style=\"display:none;\">\n",
              "        \n",
              "  <svg xmlns=\"http://www.w3.org/2000/svg\" height=\"24px\"viewBox=\"0 0 24 24\"\n",
              "       width=\"24px\">\n",
              "    <path d=\"M0 0h24v24H0V0z\" fill=\"none\"/>\n",
              "    <path d=\"M18.56 5.44l.94 2.06.94-2.06 2.06-.94-2.06-.94-.94-2.06-.94 2.06-2.06.94zm-11 1L8.5 8.5l.94-2.06 2.06-.94-2.06-.94L8.5 2.5l-.94 2.06-2.06.94zm10 10l.94 2.06.94-2.06 2.06-.94-2.06-.94-.94-2.06-.94 2.06-2.06.94z\"/><path d=\"M17.41 7.96l-1.37-1.37c-.4-.4-.92-.59-1.43-.59-.52 0-1.04.2-1.43.59L10.3 9.45l-7.72 7.72c-.78.78-.78 2.05 0 2.83L4 21.41c.39.39.9.59 1.41.59.51 0 1.02-.2 1.41-.59l7.78-7.78 2.81-2.81c.8-.78.8-2.07 0-2.86zM5.41 20L4 18.59l7.72-7.72 1.47 1.35L5.41 20z\"/>\n",
              "  </svg>\n",
              "      </button>\n",
              "      \n",
              "  <style>\n",
              "    .colab-df-container {\n",
              "      display:flex;\n",
              "      flex-wrap:wrap;\n",
              "      gap: 12px;\n",
              "    }\n",
              "\n",
              "    .colab-df-convert {\n",
              "      background-color: #E8F0FE;\n",
              "      border: none;\n",
              "      border-radius: 50%;\n",
              "      cursor: pointer;\n",
              "      display: none;\n",
              "      fill: #1967D2;\n",
              "      height: 32px;\n",
              "      padding: 0 0 0 0;\n",
              "      width: 32px;\n",
              "    }\n",
              "\n",
              "    .colab-df-convert:hover {\n",
              "      background-color: #E2EBFA;\n",
              "      box-shadow: 0px 1px 2px rgba(60, 64, 67, 0.3), 0px 1px 3px 1px rgba(60, 64, 67, 0.15);\n",
              "      fill: #174EA6;\n",
              "    }\n",
              "\n",
              "    [theme=dark] .colab-df-convert {\n",
              "      background-color: #3B4455;\n",
              "      fill: #D2E3FC;\n",
              "    }\n",
              "\n",
              "    [theme=dark] .colab-df-convert:hover {\n",
              "      background-color: #434B5C;\n",
              "      box-shadow: 0px 1px 3px 1px rgba(0, 0, 0, 0.15);\n",
              "      filter: drop-shadow(0px 1px 2px rgba(0, 0, 0, 0.3));\n",
              "      fill: #FFFFFF;\n",
              "    }\n",
              "  </style>\n",
              "\n",
              "      <script>\n",
              "        const buttonEl =\n",
              "          document.querySelector('#df-5a3a95e9-56a7-484e-8c1a-91af31dd502f button.colab-df-convert');\n",
              "        buttonEl.style.display =\n",
              "          google.colab.kernel.accessAllowed ? 'block' : 'none';\n",
              "\n",
              "        async function convertToInteractive(key) {\n",
              "          const element = document.querySelector('#df-5a3a95e9-56a7-484e-8c1a-91af31dd502f');\n",
              "          const dataTable =\n",
              "            await google.colab.kernel.invokeFunction('convertToInteractive',\n",
              "                                                     [key], {});\n",
              "          if (!dataTable) return;\n",
              "\n",
              "          const docLinkHtml = 'Like what you see? Visit the ' +\n",
              "            '<a target=\"_blank\" href=https://colab.research.google.com/notebooks/data_table.ipynb>data table notebook</a>'\n",
              "            + ' to learn more about interactive tables.';\n",
              "          element.innerHTML = '';\n",
              "          dataTable['output_type'] = 'display_data';\n",
              "          await google.colab.output.renderOutput(dataTable, element);\n",
              "          const docLink = document.createElement('div');\n",
              "          docLink.innerHTML = docLinkHtml;\n",
              "          element.appendChild(docLink);\n",
              "        }\n",
              "      </script>\n",
              "    </div>\n",
              "  </div>\n",
              "  "
            ]
          },
          "metadata": {},
          "execution_count": 324
        }
      ]
    },
    {
      "cell_type": "code",
      "source": [
        "## rearranging the columns so that I can easily use the dataframe to predict the missing age values. \n",
        "train = pd.concat([train[[\"Survived\", \"Age\", \"Sex\",\"SibSp\",\"Parch\"]], train.loc[:,\"is_alone\":]], axis=1)\n",
        "test = pd.concat([test[[\"Age\", \"Sex\"]], test.loc[:,\"SibSp\":]], axis=1)"
      ],
      "metadata": {
        "id": "hTOftdi_t6mf"
      },
      "execution_count": null,
      "outputs": []
    },
    {
      "cell_type": "code",
      "source": [
        "train.info()"
      ],
      "metadata": {
        "colab": {
          "base_uri": "https://localhost:8080/"
        },
        "id": "6-Dp2_Gnw8aC",
        "outputId": "9cbac2ed-2b0f-4edd-b33f-606e5bcdc4e1"
      },
      "execution_count": null,
      "outputs": [
        {
          "output_type": "stream",
          "name": "stdout",
          "text": [
            "<class 'pandas.core.frame.DataFrame'>\n",
            "Int64Index: 888 entries, 0 to 890\n",
            "Data columns (total 30 columns):\n",
            " #   Column                Non-Null Count  Dtype  \n",
            "---  ------                --------------  -----  \n",
            " 0   Survived              888 non-null    int64  \n",
            " 1   Age                   711 non-null    float64\n",
            " 2   Sex                   888 non-null    int64  \n",
            " 3   SibSp                 888 non-null    int64  \n",
            " 4   Parch                 888 non-null    int64  \n",
            " 5   is_alone              888 non-null    int64  \n",
            " 6   calculated_fare       888 non-null    float64\n",
            " 7   title_Master          888 non-null    uint8  \n",
            " 8   title_Miss            888 non-null    uint8  \n",
            " 9   title_Mr              888 non-null    uint8  \n",
            " 10  title_Mrs             888 non-null    uint8  \n",
            " 11  title_rare            888 non-null    uint8  \n",
            " 12  Pclass_1              888 non-null    uint8  \n",
            " 13  Pclass_2              888 non-null    uint8  \n",
            " 14  Pclass_3              888 non-null    uint8  \n",
            " 15  Embarked_C            888 non-null    uint8  \n",
            " 16  Embarked_Q            888 non-null    uint8  \n",
            " 17  Embarked_S            888 non-null    uint8  \n",
            " 18  nLength_group_good    888 non-null    uint8  \n",
            " 19  nLength_group_long    888 non-null    uint8  \n",
            " 20  nLength_group_medium  888 non-null    uint8  \n",
            " 21  nLength_group_short   888 non-null    uint8  \n",
            " 22  family_group_large    888 non-null    uint8  \n",
            " 23  family_group_loner    888 non-null    uint8  \n",
            " 24  family_group_small    888 non-null    uint8  \n",
            " 25  fare_group_Very_low   888 non-null    uint8  \n",
            " 26  fare_group_high       888 non-null    uint8  \n",
            " 27  fare_group_low        888 non-null    uint8  \n",
            " 28  fare_group_mid        888 non-null    uint8  \n",
            " 29  fare_group_very_high  888 non-null    uint8  \n",
            "dtypes: float64(2), int64(5), uint8(23)\n",
            "memory usage: 107.7 KB\n"
          ]
        }
      ]
    },
    {
      "cell_type": "code",
      "source": [
        "test.info()"
      ],
      "metadata": {
        "colab": {
          "base_uri": "https://localhost:8080/"
        },
        "id": "I_Pnrbd8w2o0",
        "outputId": "385fe3b0-1854-44e7-9d50-b3462eeafb80"
      },
      "execution_count": null,
      "outputs": [
        {
          "output_type": "stream",
          "name": "stdout",
          "text": [
            "<class 'pandas.core.frame.DataFrame'>\n",
            "RangeIndex: 418 entries, 0 to 417\n",
            "Data columns (total 29 columns):\n",
            " #   Column                Non-Null Count  Dtype  \n",
            "---  ------                --------------  -----  \n",
            " 0   Age                   332 non-null    float64\n",
            " 1   Sex                   418 non-null    int64  \n",
            " 2   SibSp                 418 non-null    int64  \n",
            " 3   Parch                 418 non-null    int64  \n",
            " 4   is_alone              418 non-null    int64  \n",
            " 5   calculated_fare       418 non-null    float64\n",
            " 6   title_Master          418 non-null    uint8  \n",
            " 7   title_Miss            418 non-null    uint8  \n",
            " 8   title_Mr              418 non-null    uint8  \n",
            " 9   title_Mrs             418 non-null    uint8  \n",
            " 10  title_rare            418 non-null    uint8  \n",
            " 11  Pclass_1              418 non-null    uint8  \n",
            " 12  Pclass_2              418 non-null    uint8  \n",
            " 13  Pclass_3              418 non-null    uint8  \n",
            " 14  Embarked_C            418 non-null    uint8  \n",
            " 15  Embarked_Q            418 non-null    uint8  \n",
            " 16  Embarked_S            418 non-null    uint8  \n",
            " 17  nLength_group_good    418 non-null    uint8  \n",
            " 18  nLength_group_long    418 non-null    uint8  \n",
            " 19  nLength_group_medium  418 non-null    uint8  \n",
            " 20  nLength_group_short   418 non-null    uint8  \n",
            " 21  family_group_large    418 non-null    uint8  \n",
            " 22  family_group_loner    418 non-null    uint8  \n",
            " 23  family_group_small    418 non-null    uint8  \n",
            " 24  fare_group_Very_low   418 non-null    uint8  \n",
            " 25  fare_group_high       418 non-null    uint8  \n",
            " 26  fare_group_low        418 non-null    uint8  \n",
            " 27  fare_group_mid        418 non-null    uint8  \n",
            " 28  fare_group_very_high  418 non-null    uint8  \n",
            "dtypes: float64(2), int64(4), uint8(23)\n",
            "memory usage: 29.1 KB\n"
          ]
        }
      ]
    },
    {
      "cell_type": "code",
      "source": [
        "## Importing RandomForestRegressor\n",
        "from sklearn.ensemble import RandomForestRegressor\n",
        "\n",
        "## writing a function that takes a dataframe with missing values and outputs it by filling the missing values. \n",
        "def completing_age(df):\n",
        "    ## gettting all the features except survived\n",
        "    age_df = df.loc[:,\"Age\":] \n",
        "    \n",
        "    temp_train = age_df.loc[age_df.Age.notnull()] ## df with age values\n",
        "    temp_test = age_df.loc[age_df.Age.isnull()] ## df without age values\n",
        " \n",
        "    \n",
        "    y = temp_train.Age.values ## setting target variables(age) in y \n",
        "    x = temp_train.loc[:, \"Sex\":].values\n",
        "    \n",
        "    rfr = RandomForestRegressor(n_estimators=1500, n_jobs=-1)\n",
        "    rfr.fit(x, y)\n",
        "    \n",
        "    predicted_age = rfr.predict(temp_test.loc[:, \"Sex\":])\n",
        "    \n",
        "    df.loc[df.Age.isnull(), \"Age\"] = predicted_age\n",
        "    \n",
        "\n",
        "    return df\n",
        "\n",
        "## Implementing the completing_age function in both train and test dataset. \n",
        "completing_age(train)\n",
        "completing_age(test)\n",
        "\n"
      ],
      "metadata": {
        "colab": {
          "base_uri": "https://localhost:8080/",
          "height": 557
        },
        "id": "HmhSu-9GvLoB",
        "outputId": "476b7390-9aa1-45d9-d680-af36749f69e1"
      },
      "execution_count": null,
      "outputs": [
        {
          "output_type": "stream",
          "name": "stderr",
          "text": [
            "/usr/local/lib/python3.7/dist-packages/sklearn/base.py:444: UserWarning: X has feature names, but RandomForestRegressor was fitted without feature names\n",
            "  f\"X has feature names, but {self.__class__.__name__} was fitted without\"\n",
            "/usr/local/lib/python3.7/dist-packages/sklearn/base.py:444: UserWarning: X has feature names, but RandomForestRegressor was fitted without feature names\n",
            "  f\"X has feature names, but {self.__class__.__name__} was fitted without\"\n"
          ]
        },
        {
          "output_type": "execute_result",
          "data": {
            "text/plain": [
              "           Age  Sex  SibSp  Parch  is_alone  calculated_fare  title_Master  \\\n",
              "0    34.500000    0      0      0         1         7.829200             0   \n",
              "1    47.000000    1      1      0         0         3.500000             0   \n",
              "2    62.000000    0      0      0         1         9.687500             0   \n",
              "3    27.000000    0      0      0         1         8.662500             0   \n",
              "4    22.000000    1      1      1         0         4.095833             0   \n",
              "..         ...  ...    ...    ...       ...              ...           ...   \n",
              "413  23.211060    0      0      0         1         8.050000             0   \n",
              "414  39.000000    1      0      0         1       108.900000             0   \n",
              "415  38.500000    0      0      0         1         7.250000             0   \n",
              "416  23.211060    0      0      0         1         8.050000             0   \n",
              "417   7.132093    0      1      1         0         7.452767             1   \n",
              "\n",
              "     title_Miss  title_Mr  title_Mrs  ...  nLength_group_medium  \\\n",
              "0             0         1          0  ...                     0   \n",
              "1             0         0          1  ...                     1   \n",
              "2             0         1          0  ...                     1   \n",
              "3             0         1          0  ...                     0   \n",
              "4             0         0          1  ...                     0   \n",
              "..          ...       ...        ...  ...                   ...   \n",
              "413           0         1          0  ...                     0   \n",
              "414           0         0          0  ...                     1   \n",
              "415           0         1          0  ...                     1   \n",
              "416           0         1          0  ...                     0   \n",
              "417           0         0          0  ...                     1   \n",
              "\n",
              "     nLength_group_short  family_group_large  family_group_loner  \\\n",
              "0                      1                   0                   1   \n",
              "1                      0                   0                   0   \n",
              "2                      0                   0                   1   \n",
              "3                      1                   0                   1   \n",
              "4                      0                   0                   0   \n",
              "..                   ...                 ...                 ...   \n",
              "413                    1                   0                   1   \n",
              "414                    0                   0                   1   \n",
              "415                    0                   0                   1   \n",
              "416                    1                   0                   1   \n",
              "417                    0                   0                   0   \n",
              "\n",
              "     family_group_small  fare_group_Very_low  fare_group_high  fare_group_low  \\\n",
              "0                     0                    0                0               1   \n",
              "1                     1                    1                0               0   \n",
              "2                     0                    0                0               1   \n",
              "3                     0                    0                0               1   \n",
              "4                     1                    0                0               1   \n",
              "..                  ...                  ...              ...             ...   \n",
              "413                   0                    0                0               1   \n",
              "414                   0                    0                0               0   \n",
              "415                   0                    0                0               1   \n",
              "416                   0                    0                0               1   \n",
              "417                   1                    0                0               1   \n",
              "\n",
              "     fare_group_mid  fare_group_very_high  \n",
              "0                 0                     0  \n",
              "1                 0                     0  \n",
              "2                 0                     0  \n",
              "3                 0                     0  \n",
              "4                 0                     0  \n",
              "..              ...                   ...  \n",
              "413               0                     0  \n",
              "414               0                     1  \n",
              "415               0                     0  \n",
              "416               0                     0  \n",
              "417               0                     0  \n",
              "\n",
              "[418 rows x 29 columns]"
            ],
            "text/html": [
              "\n",
              "  <div id=\"df-9106f967-f2fc-4a41-97a4-6fdb04d7cf32\">\n",
              "    <div class=\"colab-df-container\">\n",
              "      <div>\n",
              "<style scoped>\n",
              "    .dataframe tbody tr th:only-of-type {\n",
              "        vertical-align: middle;\n",
              "    }\n",
              "\n",
              "    .dataframe tbody tr th {\n",
              "        vertical-align: top;\n",
              "    }\n",
              "\n",
              "    .dataframe thead th {\n",
              "        text-align: right;\n",
              "    }\n",
              "</style>\n",
              "<table border=\"1\" class=\"dataframe\">\n",
              "  <thead>\n",
              "    <tr style=\"text-align: right;\">\n",
              "      <th></th>\n",
              "      <th>Age</th>\n",
              "      <th>Sex</th>\n",
              "      <th>SibSp</th>\n",
              "      <th>Parch</th>\n",
              "      <th>is_alone</th>\n",
              "      <th>calculated_fare</th>\n",
              "      <th>title_Master</th>\n",
              "      <th>title_Miss</th>\n",
              "      <th>title_Mr</th>\n",
              "      <th>title_Mrs</th>\n",
              "      <th>...</th>\n",
              "      <th>nLength_group_medium</th>\n",
              "      <th>nLength_group_short</th>\n",
              "      <th>family_group_large</th>\n",
              "      <th>family_group_loner</th>\n",
              "      <th>family_group_small</th>\n",
              "      <th>fare_group_Very_low</th>\n",
              "      <th>fare_group_high</th>\n",
              "      <th>fare_group_low</th>\n",
              "      <th>fare_group_mid</th>\n",
              "      <th>fare_group_very_high</th>\n",
              "    </tr>\n",
              "  </thead>\n",
              "  <tbody>\n",
              "    <tr>\n",
              "      <th>0</th>\n",
              "      <td>34.500000</td>\n",
              "      <td>0</td>\n",
              "      <td>0</td>\n",
              "      <td>0</td>\n",
              "      <td>1</td>\n",
              "      <td>7.829200</td>\n",
              "      <td>0</td>\n",
              "      <td>0</td>\n",
              "      <td>1</td>\n",
              "      <td>0</td>\n",
              "      <td>...</td>\n",
              "      <td>0</td>\n",
              "      <td>1</td>\n",
              "      <td>0</td>\n",
              "      <td>1</td>\n",
              "      <td>0</td>\n",
              "      <td>0</td>\n",
              "      <td>0</td>\n",
              "      <td>1</td>\n",
              "      <td>0</td>\n",
              "      <td>0</td>\n",
              "    </tr>\n",
              "    <tr>\n",
              "      <th>1</th>\n",
              "      <td>47.000000</td>\n",
              "      <td>1</td>\n",
              "      <td>1</td>\n",
              "      <td>0</td>\n",
              "      <td>0</td>\n",
              "      <td>3.500000</td>\n",
              "      <td>0</td>\n",
              "      <td>0</td>\n",
              "      <td>0</td>\n",
              "      <td>1</td>\n",
              "      <td>...</td>\n",
              "      <td>1</td>\n",
              "      <td>0</td>\n",
              "      <td>0</td>\n",
              "      <td>0</td>\n",
              "      <td>1</td>\n",
              "      <td>1</td>\n",
              "      <td>0</td>\n",
              "      <td>0</td>\n",
              "      <td>0</td>\n",
              "      <td>0</td>\n",
              "    </tr>\n",
              "    <tr>\n",
              "      <th>2</th>\n",
              "      <td>62.000000</td>\n",
              "      <td>0</td>\n",
              "      <td>0</td>\n",
              "      <td>0</td>\n",
              "      <td>1</td>\n",
              "      <td>9.687500</td>\n",
              "      <td>0</td>\n",
              "      <td>0</td>\n",
              "      <td>1</td>\n",
              "      <td>0</td>\n",
              "      <td>...</td>\n",
              "      <td>1</td>\n",
              "      <td>0</td>\n",
              "      <td>0</td>\n",
              "      <td>1</td>\n",
              "      <td>0</td>\n",
              "      <td>0</td>\n",
              "      <td>0</td>\n",
              "      <td>1</td>\n",
              "      <td>0</td>\n",
              "      <td>0</td>\n",
              "    </tr>\n",
              "    <tr>\n",
              "      <th>3</th>\n",
              "      <td>27.000000</td>\n",
              "      <td>0</td>\n",
              "      <td>0</td>\n",
              "      <td>0</td>\n",
              "      <td>1</td>\n",
              "      <td>8.662500</td>\n",
              "      <td>0</td>\n",
              "      <td>0</td>\n",
              "      <td>1</td>\n",
              "      <td>0</td>\n",
              "      <td>...</td>\n",
              "      <td>0</td>\n",
              "      <td>1</td>\n",
              "      <td>0</td>\n",
              "      <td>1</td>\n",
              "      <td>0</td>\n",
              "      <td>0</td>\n",
              "      <td>0</td>\n",
              "      <td>1</td>\n",
              "      <td>0</td>\n",
              "      <td>0</td>\n",
              "    </tr>\n",
              "    <tr>\n",
              "      <th>4</th>\n",
              "      <td>22.000000</td>\n",
              "      <td>1</td>\n",
              "      <td>1</td>\n",
              "      <td>1</td>\n",
              "      <td>0</td>\n",
              "      <td>4.095833</td>\n",
              "      <td>0</td>\n",
              "      <td>0</td>\n",
              "      <td>0</td>\n",
              "      <td>1</td>\n",
              "      <td>...</td>\n",
              "      <td>0</td>\n",
              "      <td>0</td>\n",
              "      <td>0</td>\n",
              "      <td>0</td>\n",
              "      <td>1</td>\n",
              "      <td>0</td>\n",
              "      <td>0</td>\n",
              "      <td>1</td>\n",
              "      <td>0</td>\n",
              "      <td>0</td>\n",
              "    </tr>\n",
              "    <tr>\n",
              "      <th>...</th>\n",
              "      <td>...</td>\n",
              "      <td>...</td>\n",
              "      <td>...</td>\n",
              "      <td>...</td>\n",
              "      <td>...</td>\n",
              "      <td>...</td>\n",
              "      <td>...</td>\n",
              "      <td>...</td>\n",
              "      <td>...</td>\n",
              "      <td>...</td>\n",
              "      <td>...</td>\n",
              "      <td>...</td>\n",
              "      <td>...</td>\n",
              "      <td>...</td>\n",
              "      <td>...</td>\n",
              "      <td>...</td>\n",
              "      <td>...</td>\n",
              "      <td>...</td>\n",
              "      <td>...</td>\n",
              "      <td>...</td>\n",
              "      <td>...</td>\n",
              "    </tr>\n",
              "    <tr>\n",
              "      <th>413</th>\n",
              "      <td>23.211060</td>\n",
              "      <td>0</td>\n",
              "      <td>0</td>\n",
              "      <td>0</td>\n",
              "      <td>1</td>\n",
              "      <td>8.050000</td>\n",
              "      <td>0</td>\n",
              "      <td>0</td>\n",
              "      <td>1</td>\n",
              "      <td>0</td>\n",
              "      <td>...</td>\n",
              "      <td>0</td>\n",
              "      <td>1</td>\n",
              "      <td>0</td>\n",
              "      <td>1</td>\n",
              "      <td>0</td>\n",
              "      <td>0</td>\n",
              "      <td>0</td>\n",
              "      <td>1</td>\n",
              "      <td>0</td>\n",
              "      <td>0</td>\n",
              "    </tr>\n",
              "    <tr>\n",
              "      <th>414</th>\n",
              "      <td>39.000000</td>\n",
              "      <td>1</td>\n",
              "      <td>0</td>\n",
              "      <td>0</td>\n",
              "      <td>1</td>\n",
              "      <td>108.900000</td>\n",
              "      <td>0</td>\n",
              "      <td>0</td>\n",
              "      <td>0</td>\n",
              "      <td>0</td>\n",
              "      <td>...</td>\n",
              "      <td>1</td>\n",
              "      <td>0</td>\n",
              "      <td>0</td>\n",
              "      <td>1</td>\n",
              "      <td>0</td>\n",
              "      <td>0</td>\n",
              "      <td>0</td>\n",
              "      <td>0</td>\n",
              "      <td>0</td>\n",
              "      <td>1</td>\n",
              "    </tr>\n",
              "    <tr>\n",
              "      <th>415</th>\n",
              "      <td>38.500000</td>\n",
              "      <td>0</td>\n",
              "      <td>0</td>\n",
              "      <td>0</td>\n",
              "      <td>1</td>\n",
              "      <td>7.250000</td>\n",
              "      <td>0</td>\n",
              "      <td>0</td>\n",
              "      <td>1</td>\n",
              "      <td>0</td>\n",
              "      <td>...</td>\n",
              "      <td>1</td>\n",
              "      <td>0</td>\n",
              "      <td>0</td>\n",
              "      <td>1</td>\n",
              "      <td>0</td>\n",
              "      <td>0</td>\n",
              "      <td>0</td>\n",
              "      <td>1</td>\n",
              "      <td>0</td>\n",
              "      <td>0</td>\n",
              "    </tr>\n",
              "    <tr>\n",
              "      <th>416</th>\n",
              "      <td>23.211060</td>\n",
              "      <td>0</td>\n",
              "      <td>0</td>\n",
              "      <td>0</td>\n",
              "      <td>1</td>\n",
              "      <td>8.050000</td>\n",
              "      <td>0</td>\n",
              "      <td>0</td>\n",
              "      <td>1</td>\n",
              "      <td>0</td>\n",
              "      <td>...</td>\n",
              "      <td>0</td>\n",
              "      <td>1</td>\n",
              "      <td>0</td>\n",
              "      <td>1</td>\n",
              "      <td>0</td>\n",
              "      <td>0</td>\n",
              "      <td>0</td>\n",
              "      <td>1</td>\n",
              "      <td>0</td>\n",
              "      <td>0</td>\n",
              "    </tr>\n",
              "    <tr>\n",
              "      <th>417</th>\n",
              "      <td>7.132093</td>\n",
              "      <td>0</td>\n",
              "      <td>1</td>\n",
              "      <td>1</td>\n",
              "      <td>0</td>\n",
              "      <td>7.452767</td>\n",
              "      <td>1</td>\n",
              "      <td>0</td>\n",
              "      <td>0</td>\n",
              "      <td>0</td>\n",
              "      <td>...</td>\n",
              "      <td>1</td>\n",
              "      <td>0</td>\n",
              "      <td>0</td>\n",
              "      <td>0</td>\n",
              "      <td>1</td>\n",
              "      <td>0</td>\n",
              "      <td>0</td>\n",
              "      <td>1</td>\n",
              "      <td>0</td>\n",
              "      <td>0</td>\n",
              "    </tr>\n",
              "  </tbody>\n",
              "</table>\n",
              "<p>418 rows × 29 columns</p>\n",
              "</div>\n",
              "      <button class=\"colab-df-convert\" onclick=\"convertToInteractive('df-9106f967-f2fc-4a41-97a4-6fdb04d7cf32')\"\n",
              "              title=\"Convert this dataframe to an interactive table.\"\n",
              "              style=\"display:none;\">\n",
              "        \n",
              "  <svg xmlns=\"http://www.w3.org/2000/svg\" height=\"24px\"viewBox=\"0 0 24 24\"\n",
              "       width=\"24px\">\n",
              "    <path d=\"M0 0h24v24H0V0z\" fill=\"none\"/>\n",
              "    <path d=\"M18.56 5.44l.94 2.06.94-2.06 2.06-.94-2.06-.94-.94-2.06-.94 2.06-2.06.94zm-11 1L8.5 8.5l.94-2.06 2.06-.94-2.06-.94L8.5 2.5l-.94 2.06-2.06.94zm10 10l.94 2.06.94-2.06 2.06-.94-2.06-.94-.94-2.06-.94 2.06-2.06.94z\"/><path d=\"M17.41 7.96l-1.37-1.37c-.4-.4-.92-.59-1.43-.59-.52 0-1.04.2-1.43.59L10.3 9.45l-7.72 7.72c-.78.78-.78 2.05 0 2.83L4 21.41c.39.39.9.59 1.41.59.51 0 1.02-.2 1.41-.59l7.78-7.78 2.81-2.81c.8-.78.8-2.07 0-2.86zM5.41 20L4 18.59l7.72-7.72 1.47 1.35L5.41 20z\"/>\n",
              "  </svg>\n",
              "      </button>\n",
              "      \n",
              "  <style>\n",
              "    .colab-df-container {\n",
              "      display:flex;\n",
              "      flex-wrap:wrap;\n",
              "      gap: 12px;\n",
              "    }\n",
              "\n",
              "    .colab-df-convert {\n",
              "      background-color: #E8F0FE;\n",
              "      border: none;\n",
              "      border-radius: 50%;\n",
              "      cursor: pointer;\n",
              "      display: none;\n",
              "      fill: #1967D2;\n",
              "      height: 32px;\n",
              "      padding: 0 0 0 0;\n",
              "      width: 32px;\n",
              "    }\n",
              "\n",
              "    .colab-df-convert:hover {\n",
              "      background-color: #E2EBFA;\n",
              "      box-shadow: 0px 1px 2px rgba(60, 64, 67, 0.3), 0px 1px 3px 1px rgba(60, 64, 67, 0.15);\n",
              "      fill: #174EA6;\n",
              "    }\n",
              "\n",
              "    [theme=dark] .colab-df-convert {\n",
              "      background-color: #3B4455;\n",
              "      fill: #D2E3FC;\n",
              "    }\n",
              "\n",
              "    [theme=dark] .colab-df-convert:hover {\n",
              "      background-color: #434B5C;\n",
              "      box-shadow: 0px 1px 3px 1px rgba(0, 0, 0, 0.15);\n",
              "      filter: drop-shadow(0px 1px 2px rgba(0, 0, 0, 0.3));\n",
              "      fill: #FFFFFF;\n",
              "    }\n",
              "  </style>\n",
              "\n",
              "      <script>\n",
              "        const buttonEl =\n",
              "          document.querySelector('#df-9106f967-f2fc-4a41-97a4-6fdb04d7cf32 button.colab-df-convert');\n",
              "        buttonEl.style.display =\n",
              "          google.colab.kernel.accessAllowed ? 'block' : 'none';\n",
              "\n",
              "        async function convertToInteractive(key) {\n",
              "          const element = document.querySelector('#df-9106f967-f2fc-4a41-97a4-6fdb04d7cf32');\n",
              "          const dataTable =\n",
              "            await google.colab.kernel.invokeFunction('convertToInteractive',\n",
              "                                                     [key], {});\n",
              "          if (!dataTable) return;\n",
              "\n",
              "          const docLinkHtml = 'Like what you see? Visit the ' +\n",
              "            '<a target=\"_blank\" href=https://colab.research.google.com/notebooks/data_table.ipynb>data table notebook</a>'\n",
              "            + ' to learn more about interactive tables.';\n",
              "          element.innerHTML = '';\n",
              "          dataTable['output_type'] = 'display_data';\n",
              "          await google.colab.output.renderOutput(dataTable, element);\n",
              "          const docLink = document.createElement('div');\n",
              "          docLink.innerHTML = docLinkHtml;\n",
              "          element.appendChild(docLink);\n",
              "        }\n",
              "      </script>\n",
              "    </div>\n",
              "  </div>\n",
              "  "
            ]
          },
          "metadata": {},
          "execution_count": 328
        }
      ]
    },
    {
      "cell_type": "markdown",
      "source": [
        "lets create a new feature age_group that derives from age"
      ],
      "metadata": {
        "id": "Xf3gla364xot"
      }
    },
    {
      "cell_type": "code",
      "source": [
        "def age_group_fun(age):\n",
        "    \"\"\"\n",
        "    This function creates a bin for age\n",
        "    \"\"\"\n",
        "    a = ''\n",
        "    if age <= 1:\n",
        "        a = 'infant'\n",
        "    elif age <= 4: \n",
        "        a = 'toddler'\n",
        "    elif age <= 13:\n",
        "        a = 'child'\n",
        "    elif age <= 18:\n",
        "        a = 'teenager'\n",
        "    elif age <= 35:\n",
        "        a = 'Young_Adult'\n",
        "    elif age <= 45:\n",
        "        a = 'adult'\n",
        "    elif age <= 55:\n",
        "        a = 'middle_aged'\n",
        "    elif age <= 65:\n",
        "        a = 'senior_citizen'\n",
        "    else:\n",
        "        a = 'old'\n",
        "    return a\n",
        "        \n",
        "## Applying \"age_group_fun\" function to the \"Age\" column.\n",
        "train['age_group'] = train['Age'].map(age_group_fun)\n",
        "test['age_group'] = test['Age'].map(age_group_fun)\n",
        "\n",
        "## Creating dummies for \"age_group\" feature. \n",
        "train = pd.get_dummies(train,columns=['age_group'], drop_first=True)\n",
        "test = pd.get_dummies(test,columns=['age_group'], drop_first=True);"
      ],
      "metadata": {
        "id": "fTR2n8Y94z_3"
      },
      "execution_count": null,
      "outputs": []
    },
    {
      "cell_type": "markdown",
      "source": [
        "# Pre modeling"
      ],
      "metadata": {
        "id": "mKixDmcT4-HE"
      }
    },
    {
      "cell_type": "code",
      "source": [
        "X = train.drop(['Survived'], axis = 1)\n",
        "y = train[\"Survived\"]"
      ],
      "metadata": {
        "id": "5WffrSQU4_tq"
      },
      "execution_count": null,
      "outputs": []
    },
    {
      "cell_type": "code",
      "source": [
        "from sklearn.model_selection import train_test_split\n",
        "X_train, X_test, y_train, y_test = train_test_split(X, y,test_size = .33, random_state=42)"
      ],
      "metadata": {
        "id": "jSnzK4k75Ctt"
      },
      "execution_count": null,
      "outputs": []
    },
    {
      "cell_type": "markdown",
      "source": [
        "# Feature Scaling"
      ],
      "metadata": {
        "id": "50c1G63a5i1n"
      }
    },
    {
      "cell_type": "code",
      "source": [
        "from sklearn.preprocessing import StandardScaler\n",
        "st_scale = StandardScaler()\n",
        "\n",
        "## transforming \"train_x\"\n",
        "X_train = st_scale.fit_transform(X_train)\n",
        "## transforming \"test_x\"\n",
        "X_test = st_scale.transform(X_test)\n"
      ],
      "metadata": {
        "id": "BELXl2sB5k1B"
      },
      "execution_count": null,
      "outputs": []
    },
    {
      "cell_type": "markdown",
      "source": [
        "# Modeling"
      ],
      "metadata": {
        "id": "C0A-sgYi8d20"
      }
    },
    {
      "cell_type": "code",
      "source": [
        "# import LogisticRegression model in python. \n",
        "from sklearn.linear_model import LogisticRegression\n",
        "from sklearn.metrics import mean_absolute_error, accuracy_score\n",
        "\n",
        "## call on the model object\n",
        "logreg = LogisticRegression(solver='liblinear',\n",
        "                            penalty= 'l1',random_state = 42\n",
        "                                \n",
        "                            )\n",
        "\n",
        "## fit the model with \"train_x\" and \"train_y\"\n",
        "logreg.fit(X_train,y_train)\n",
        "\n",
        "## Once the model is trained we want to find out how well the model is performing, so we test the model. \n",
        "## we use \"X_test\" portion of the data(this data was not used to fit the model) to predict model outcome. \n",
        "y_pred = logreg.predict(X_test)"
      ],
      "metadata": {
        "id": "a0RL-qEQ8fDr"
      },
      "execution_count": null,
      "outputs": []
    },
    {
      "cell_type": "markdown",
      "source": [
        "# Evaluation"
      ],
      "metadata": {
        "id": "4v1ttH4C8jCp"
      }
    },
    {
      "cell_type": "code",
      "source": [
        "from sklearn.metrics import classification_report, confusion_matrix\n",
        "# printing confision matrix\n",
        "pd.DataFrame(confusion_matrix(y_test,y_pred),\\\n",
        "            columns=[\"Predicted Not-Survived\", \"Predicted Survived\"],\\\n",
        "            index=[\"Not-Survived\",\"Survived\"] )"
      ],
      "metadata": {
        "colab": {
          "base_uri": "https://localhost:8080/",
          "height": 112
        },
        "id": "aLJ9dSIL8gOV",
        "outputId": "670d337f-ce80-4cb3-f65b-bea81332012b"
      },
      "execution_count": null,
      "outputs": [
        {
          "output_type": "execute_result",
          "data": {
            "text/plain": [
              "              Predicted Not-Survived  Predicted Survived\n",
              "Not-Survived                     151                  25\n",
              "Survived                          18                 100"
            ],
            "text/html": [
              "\n",
              "  <div id=\"df-1022eb65-942a-4823-a9db-297322f6cd97\">\n",
              "    <div class=\"colab-df-container\">\n",
              "      <div>\n",
              "<style scoped>\n",
              "    .dataframe tbody tr th:only-of-type {\n",
              "        vertical-align: middle;\n",
              "    }\n",
              "\n",
              "    .dataframe tbody tr th {\n",
              "        vertical-align: top;\n",
              "    }\n",
              "\n",
              "    .dataframe thead th {\n",
              "        text-align: right;\n",
              "    }\n",
              "</style>\n",
              "<table border=\"1\" class=\"dataframe\">\n",
              "  <thead>\n",
              "    <tr style=\"text-align: right;\">\n",
              "      <th></th>\n",
              "      <th>Predicted Not-Survived</th>\n",
              "      <th>Predicted Survived</th>\n",
              "    </tr>\n",
              "  </thead>\n",
              "  <tbody>\n",
              "    <tr>\n",
              "      <th>Not-Survived</th>\n",
              "      <td>151</td>\n",
              "      <td>25</td>\n",
              "    </tr>\n",
              "    <tr>\n",
              "      <th>Survived</th>\n",
              "      <td>18</td>\n",
              "      <td>100</td>\n",
              "    </tr>\n",
              "  </tbody>\n",
              "</table>\n",
              "</div>\n",
              "      <button class=\"colab-df-convert\" onclick=\"convertToInteractive('df-1022eb65-942a-4823-a9db-297322f6cd97')\"\n",
              "              title=\"Convert this dataframe to an interactive table.\"\n",
              "              style=\"display:none;\">\n",
              "        \n",
              "  <svg xmlns=\"http://www.w3.org/2000/svg\" height=\"24px\"viewBox=\"0 0 24 24\"\n",
              "       width=\"24px\">\n",
              "    <path d=\"M0 0h24v24H0V0z\" fill=\"none\"/>\n",
              "    <path d=\"M18.56 5.44l.94 2.06.94-2.06 2.06-.94-2.06-.94-.94-2.06-.94 2.06-2.06.94zm-11 1L8.5 8.5l.94-2.06 2.06-.94-2.06-.94L8.5 2.5l-.94 2.06-2.06.94zm10 10l.94 2.06.94-2.06 2.06-.94-2.06-.94-.94-2.06-.94 2.06-2.06.94z\"/><path d=\"M17.41 7.96l-1.37-1.37c-.4-.4-.92-.59-1.43-.59-.52 0-1.04.2-1.43.59L10.3 9.45l-7.72 7.72c-.78.78-.78 2.05 0 2.83L4 21.41c.39.39.9.59 1.41.59.51 0 1.02-.2 1.41-.59l7.78-7.78 2.81-2.81c.8-.78.8-2.07 0-2.86zM5.41 20L4 18.59l7.72-7.72 1.47 1.35L5.41 20z\"/>\n",
              "  </svg>\n",
              "      </button>\n",
              "      \n",
              "  <style>\n",
              "    .colab-df-container {\n",
              "      display:flex;\n",
              "      flex-wrap:wrap;\n",
              "      gap: 12px;\n",
              "    }\n",
              "\n",
              "    .colab-df-convert {\n",
              "      background-color: #E8F0FE;\n",
              "      border: none;\n",
              "      border-radius: 50%;\n",
              "      cursor: pointer;\n",
              "      display: none;\n",
              "      fill: #1967D2;\n",
              "      height: 32px;\n",
              "      padding: 0 0 0 0;\n",
              "      width: 32px;\n",
              "    }\n",
              "\n",
              "    .colab-df-convert:hover {\n",
              "      background-color: #E2EBFA;\n",
              "      box-shadow: 0px 1px 2px rgba(60, 64, 67, 0.3), 0px 1px 3px 1px rgba(60, 64, 67, 0.15);\n",
              "      fill: #174EA6;\n",
              "    }\n",
              "\n",
              "    [theme=dark] .colab-df-convert {\n",
              "      background-color: #3B4455;\n",
              "      fill: #D2E3FC;\n",
              "    }\n",
              "\n",
              "    [theme=dark] .colab-df-convert:hover {\n",
              "      background-color: #434B5C;\n",
              "      box-shadow: 0px 1px 3px 1px rgba(0, 0, 0, 0.15);\n",
              "      filter: drop-shadow(0px 1px 2px rgba(0, 0, 0, 0.3));\n",
              "      fill: #FFFFFF;\n",
              "    }\n",
              "  </style>\n",
              "\n",
              "      <script>\n",
              "        const buttonEl =\n",
              "          document.querySelector('#df-1022eb65-942a-4823-a9db-297322f6cd97 button.colab-df-convert');\n",
              "        buttonEl.style.display =\n",
              "          google.colab.kernel.accessAllowed ? 'block' : 'none';\n",
              "\n",
              "        async function convertToInteractive(key) {\n",
              "          const element = document.querySelector('#df-1022eb65-942a-4823-a9db-297322f6cd97');\n",
              "          const dataTable =\n",
              "            await google.colab.kernel.invokeFunction('convertToInteractive',\n",
              "                                                     [key], {});\n",
              "          if (!dataTable) return;\n",
              "\n",
              "          const docLinkHtml = 'Like what you see? Visit the ' +\n",
              "            '<a target=\"_blank\" href=https://colab.research.google.com/notebooks/data_table.ipynb>data table notebook</a>'\n",
              "            + ' to learn more about interactive tables.';\n",
              "          element.innerHTML = '';\n",
              "          dataTable['output_type'] = 'display_data';\n",
              "          await google.colab.output.renderOutput(dataTable, element);\n",
              "          const docLink = document.createElement('div');\n",
              "          docLink.innerHTML = docLinkHtml;\n",
              "          element.appendChild(docLink);\n",
              "        }\n",
              "      </script>\n",
              "    </div>\n",
              "  </div>\n",
              "  "
            ]
          },
          "metadata": {},
          "execution_count": 334
        }
      ]
    },
    {
      "cell_type": "code",
      "source": [
        "from sklearn.metrics import accuracy_score  #accuracy\n",
        "accuracy_score(y_test, y_pred)"
      ],
      "metadata": {
        "colab": {
          "base_uri": "https://localhost:8080/"
        },
        "id": "F1oJ9TGN8n23",
        "outputId": "c2695af4-7976-4419-f28e-e5d6c6665e51"
      },
      "execution_count": null,
      "outputs": [
        {
          "output_type": "execute_result",
          "data": {
            "text/plain": [
              "0.8537414965986394"
            ]
          },
          "metadata": {},
          "execution_count": 335
        }
      ]
    },
    {
      "cell_type": "code",
      "source": [
        "from sklearn.metrics import recall_score  #recall\n",
        "recall_score(y_test, y_pred)"
      ],
      "metadata": {
        "colab": {
          "base_uri": "https://localhost:8080/"
        },
        "id": "Ncz5YBKA8t8e",
        "outputId": "71514428-95f5-4c82-a9a4-bba7c2216e14"
      },
      "execution_count": null,
      "outputs": [
        {
          "output_type": "execute_result",
          "data": {
            "text/plain": [
              "0.847457627118644"
            ]
          },
          "metadata": {},
          "execution_count": 336
        }
      ]
    },
    {
      "cell_type": "code",
      "source": [
        "from sklearn.metrics import precision_score   #precision\n",
        "precision_score(y_test, y_pred)"
      ],
      "metadata": {
        "colab": {
          "base_uri": "https://localhost:8080/"
        },
        "id": "cWn53XAC8yjd",
        "outputId": "b6681e91-3247-456a-f262-c0548c991635"
      },
      "execution_count": null,
      "outputs": [
        {
          "output_type": "execute_result",
          "data": {
            "text/plain": [
              "0.8"
            ]
          },
          "metadata": {},
          "execution_count": 337
        }
      ]
    },
    {
      "cell_type": "code",
      "source": [
        "from sklearn.metrics import classification_report, balanced_accuracy_score\n",
        "print(classification_report(y_test, y_pred))"
      ],
      "metadata": {
        "colab": {
          "base_uri": "https://localhost:8080/"
        },
        "id": "00uCQkZ585zJ",
        "outputId": "86b52dc3-5f65-4b4b-dce7-4a8acb821a58"
      },
      "execution_count": null,
      "outputs": [
        {
          "output_type": "stream",
          "name": "stdout",
          "text": [
            "              precision    recall  f1-score   support\n",
            "\n",
            "           0       0.89      0.86      0.88       176\n",
            "           1       0.80      0.85      0.82       118\n",
            "\n",
            "    accuracy                           0.85       294\n",
            "   macro avg       0.85      0.85      0.85       294\n",
            "weighted avg       0.86      0.85      0.85       294\n",
            "\n"
          ]
        }
      ]
    },
    {
      "cell_type": "markdown",
      "source": [
        "# Cross validation"
      ],
      "metadata": {
        "id": "CLSYLQ8f9E8p"
      }
    },
    {
      "cell_type": "markdown",
      "source": [
        "we will use cross validation in order to:\n",
        "try to reduce variance and expand our model's predictability."
      ],
      "metadata": {
        "id": "NW3lgQ-l9ite"
      }
    },
    {
      "cell_type": "code",
      "source": [
        "sc = st_scale"
      ],
      "metadata": {
        "id": "YUgXpR409VSZ"
      },
      "execution_count": null,
      "outputs": []
    },
    {
      "cell_type": "code",
      "source": [
        "from sklearn.model_selection import StratifiedShuffleSplit, cross_val_score\n",
        "cv = StratifiedShuffleSplit(n_splits = 10, test_size = .25, random_state = 0 ) \n",
        "## Using standard scale for the whole dataset.\n",
        "\n",
        "## saving the feature names for decision tree display\n",
        "column_names = X.columns\n",
        "\n",
        "X = sc.fit_transform(X)\n",
        "accuracies = cross_val_score(LogisticRegression(solver='liblinear'), X,y, cv  = cv)\n",
        "print (\"Cross-Validation accuracy scores:{}\".format(accuracies))\n",
        "print (\"Mean Cross-Validation accuracy score: {}\".format(round(accuracies.mean(),5)))"
      ],
      "metadata": {
        "colab": {
          "base_uri": "https://localhost:8080/"
        },
        "id": "_UW6UTQL9GTH",
        "outputId": "e91d86bc-7823-4cdb-f228-1734d2e1fa83"
      },
      "execution_count": null,
      "outputs": [
        {
          "output_type": "stream",
          "name": "stdout",
          "text": [
            "Cross-Validation accuracy scores:[0.81981982 0.84684685 0.82432432 0.85135135 0.85585586 0.82432432\n",
            " 0.81081081 0.86036036 0.83783784 0.81531532]\n",
            "Mean Cross-Validation accuracy score: 0.83468\n"
          ]
        }
      ]
    },
    {
      "cell_type": "markdown",
      "source": [
        "# Grid Search on LR"
      ],
      "metadata": {
        "id": "JH5_FD_R91w0"
      }
    },
    {
      "cell_type": "code",
      "source": [
        "from sklearn.model_selection import GridSearchCV, StratifiedKFold\n",
        "## C_vals is the alpla value of lasso and ridge regression(as alpha increases the model complexity decreases,)\n",
        "C_vals = [0.2,0.3,0.4,0.5,0.6,0.7,0.8,0.9,1,2,3,4,5,6,7,8,9,10,12,13,14,15,16,16.5,17,17.5,18]\n",
        "## Choosing penalties(Lasso(l1) or Ridge(l2))\n",
        "penalties = ['l1','l2']\n",
        "## Choose a cross validation strategy. \n",
        "cv = StratifiedShuffleSplit(n_splits = 10, test_size = .25)\n",
        "\n",
        "## setting param for param_grid in GridSearchCV. \n",
        "param = {'penalty': penalties, 'C': C_vals}\n",
        "\n",
        "logreg = LogisticRegression(solver='liblinear')\n",
        "## Calling on GridSearchCV object. \n",
        "grid = GridSearchCV(estimator=LogisticRegression(), \n",
        "                           param_grid = param,\n",
        "                           scoring = 'accuracy',\n",
        "                            n_jobs =-1,\n",
        "                           cv = cv\n",
        "                          )\n",
        "## Fitting the model\n",
        "grid.fit(X, y)"
      ],
      "metadata": {
        "colab": {
          "base_uri": "https://localhost:8080/"
        },
        "id": "VoDEIlP096NT",
        "outputId": "0a6dbd6c-eb23-4c80-b7f4-81454bdeb8d4"
      },
      "execution_count": null,
      "outputs": [
        {
          "output_type": "stream",
          "name": "stderr",
          "text": [
            "/usr/local/lib/python3.7/dist-packages/sklearn/model_selection/_validation.py:372: FitFailedWarning: \n",
            "270 fits failed out of a total of 540.\n",
            "The score on these train-test partitions for these parameters will be set to nan.\n",
            "If these failures are not expected, you can try to debug them by setting error_score='raise'.\n",
            "\n",
            "Below are more details about the failures:\n",
            "--------------------------------------------------------------------------------\n",
            "270 fits failed with the following error:\n",
            "Traceback (most recent call last):\n",
            "  File \"/usr/local/lib/python3.7/dist-packages/sklearn/model_selection/_validation.py\", line 680, in _fit_and_score\n",
            "    estimator.fit(X_train, y_train, **fit_params)\n",
            "  File \"/usr/local/lib/python3.7/dist-packages/sklearn/linear_model/_logistic.py\", line 1461, in fit\n",
            "    solver = _check_solver(self.solver, self.penalty, self.dual)\n",
            "  File \"/usr/local/lib/python3.7/dist-packages/sklearn/linear_model/_logistic.py\", line 449, in _check_solver\n",
            "    % (solver, penalty)\n",
            "ValueError: Solver lbfgs supports only 'l2' or 'none' penalties, got l1 penalty.\n",
            "\n",
            "  warnings.warn(some_fits_failed_message, FitFailedWarning)\n",
            "/usr/local/lib/python3.7/dist-packages/sklearn/model_selection/_search.py:972: UserWarning: One or more of the test scores are non-finite: [       nan 0.82432432        nan 0.82612613        nan 0.82747748\n",
            "        nan 0.82792793        nan 0.82792793        nan 0.82747748\n",
            "        nan 0.82882883        nan 0.82882883        nan 0.82927928\n",
            "        nan 0.82837838        nan 0.82837838        nan 0.82792793\n",
            "        nan 0.82792793        nan 0.82882883        nan 0.82882883\n",
            "        nan 0.82882883        nan 0.82882883        nan 0.82882883\n",
            "        nan 0.82882883        nan 0.82882883        nan 0.82882883\n",
            "        nan 0.82882883        nan 0.82882883        nan 0.82882883\n",
            "        nan 0.82882883        nan 0.82882883        nan 0.82882883]\n",
            "  category=UserWarning,\n"
          ]
        },
        {
          "output_type": "execute_result",
          "data": {
            "text/plain": [
              "GridSearchCV(cv=StratifiedShuffleSplit(n_splits=10, random_state=None, test_size=0.25,\n",
              "            train_size=None),\n",
              "             estimator=LogisticRegression(), n_jobs=-1,\n",
              "             param_grid={'C': [0.2, 0.3, 0.4, 0.5, 0.6, 0.7, 0.8, 0.9, 1, 2, 3,\n",
              "                               4, 5, 6, 7, 8, 9, 10, 12, 13, 14, 15, 16, 16.5,\n",
              "                               17, 17.5, 18],\n",
              "                         'penalty': ['l1', 'l2']},\n",
              "             scoring='accuracy')"
            ]
          },
          "metadata": {},
          "execution_count": 341
        }
      ]
    },
    {
      "cell_type": "code",
      "source": [
        "print (grid.best_score_)\n",
        "print (grid.best_params_)\n",
        "print(grid.best_estimator_)"
      ],
      "metadata": {
        "colab": {
          "base_uri": "https://localhost:8080/"
        },
        "id": "nQPJ9p7B-JGC",
        "outputId": "26d85d8f-0782-4646-a438-fe7a4dec7046"
      },
      "execution_count": null,
      "outputs": [
        {
          "output_type": "stream",
          "name": "stdout",
          "text": [
            "0.8292792792792794\n",
            "{'C': 1, 'penalty': 'l2'}\n",
            "LogisticRegression(C=1)\n"
          ]
        }
      ]
    },
    {
      "cell_type": "markdown",
      "source": [
        "lets use the best out of our grid search"
      ],
      "metadata": {
        "id": "RBWxF1aD-OoH"
      }
    },
    {
      "cell_type": "code",
      "source": [
        "logreg_grid = grid.best_estimator_\n",
        "logreg_grid.score(X,y)"
      ],
      "metadata": {
        "colab": {
          "base_uri": "https://localhost:8080/"
        },
        "id": "aogw9sQo-RSk",
        "outputId": "f3e0dfa3-2c45-49b8-adff-21a102fbd306"
      },
      "execution_count": null,
      "outputs": [
        {
          "output_type": "execute_result",
          "data": {
            "text/plain": [
              "0.838963963963964"
            ]
          },
          "metadata": {},
          "execution_count": 343
        }
      ]
    },
    {
      "cell_type": "markdown",
      "source": [
        "# Decision Tree Classifier\n"
      ],
      "metadata": {
        "id": "FbV7RPXu-gXb"
      }
    },
    {
      "cell_type": "code",
      "source": [
        "from sklearn.tree import DecisionTreeClassifier\n",
        "max_depth = range(1,30)\n",
        "max_feature = [21,22,23,24,25,26,28,29,30,'auto']\n",
        "criterion=[\"entropy\", \"gini\"]\n",
        "\n",
        "param = {'max_depth':max_depth, \n",
        "         'max_features':max_feature, \n",
        "         'criterion': criterion}\n",
        "grid = GridSearchCV(DecisionTreeClassifier(), \n",
        "                                param_grid = param, \n",
        "                                 verbose=False, \n",
        "                                 cv=StratifiedKFold(n_splits=20, random_state=15, shuffle=True),\n",
        "                                n_jobs = -1)\n",
        "grid.fit(X, y) "
      ],
      "metadata": {
        "colab": {
          "base_uri": "https://localhost:8080/"
        },
        "id": "FOal7mhk-oOf",
        "outputId": "e2f86324-f878-4697-ab54-833e6c45f6bf"
      },
      "execution_count": null,
      "outputs": [
        {
          "output_type": "execute_result",
          "data": {
            "text/plain": [
              "GridSearchCV(cv=StratifiedKFold(n_splits=20, random_state=15, shuffle=True),\n",
              "             estimator=DecisionTreeClassifier(), n_jobs=-1,\n",
              "             param_grid={'criterion': ['entropy', 'gini'],\n",
              "                         'max_depth': range(1, 30),\n",
              "                         'max_features': [21, 22, 23, 24, 25, 26, 28, 29, 30,\n",
              "                                          'auto']},\n",
              "             verbose=False)"
            ]
          },
          "metadata": {},
          "execution_count": 344
        }
      ]
    },
    {
      "cell_type": "code",
      "source": [
        "print( grid.best_params_)\n",
        "print (grid.best_score_)\n",
        "print (grid.best_estimator_)"
      ],
      "metadata": {
        "colab": {
          "base_uri": "https://localhost:8080/"
        },
        "id": "4NeV4Yq1-si6",
        "outputId": "ddb9e96a-041c-4269-e9ba-36216699ffef"
      },
      "execution_count": null,
      "outputs": [
        {
          "output_type": "stream",
          "name": "stdout",
          "text": [
            "{'criterion': 'entropy', 'max_depth': 4, 'max_features': 29}\n",
            "0.8402272727272727\n",
            "DecisionTreeClassifier(criterion='entropy', max_depth=4, max_features=29)\n"
          ]
        }
      ]
    },
    {
      "cell_type": "code",
      "source": [
        "dectree_grid = grid.best_estimator_\n",
        "## using the best found hyper paremeters to get the score. \n",
        "dectree_grid.score(X,y)"
      ],
      "metadata": {
        "colab": {
          "base_uri": "https://localhost:8080/"
        },
        "id": "ciFHDojz-wyZ",
        "outputId": "5c971972-3d25-41f3-f5d8-42cbefc8298c"
      },
      "execution_count": null,
      "outputs": [
        {
          "output_type": "execute_result",
          "data": {
            "text/plain": [
              "0.8490990990990991"
            ]
          },
          "metadata": {},
          "execution_count": 346
        }
      ]
    },
    {
      "cell_type": "markdown",
      "source": [
        "lets look at the importance of features from decision tree grid"
      ],
      "metadata": {
        "id": "Q-nkMGqD-2CS"
      }
    },
    {
      "cell_type": "code",
      "source": [
        "feature_importances = pd.DataFrame(dectree_grid.feature_importances_,\n",
        "                                   index = column_names,\n",
        "                                    columns=['importance'])\n",
        "feature_importances.sort_values(by='importance', ascending=False).head(10)"
      ],
      "metadata": {
        "colab": {
          "base_uri": "https://localhost:8080/",
          "height": 363
        },
        "id": "ThIUMh6k-6Lc",
        "outputId": "2c1c78ad-0509-44a0-b18b-f970495a248d"
      },
      "execution_count": null,
      "outputs": [
        {
          "output_type": "execute_result",
          "data": {
            "text/plain": [
              "                          importance\n",
              "title_Mr                    0.561365\n",
              "calculated_fare             0.192134\n",
              "family_group_large          0.129091\n",
              "fare_group_low              0.046763\n",
              "title_rare                  0.041057\n",
              "age_group_senior_citizen    0.014146\n",
              "Age                         0.010457\n",
              "nLength_group_short         0.004987\n",
              "age_group_old               0.000000\n",
              "age_group_middle_aged       0.000000"
            ],
            "text/html": [
              "\n",
              "  <div id=\"df-6afcae0e-75f7-4ef2-9dc0-5d9f0aee4428\">\n",
              "    <div class=\"colab-df-container\">\n",
              "      <div>\n",
              "<style scoped>\n",
              "    .dataframe tbody tr th:only-of-type {\n",
              "        vertical-align: middle;\n",
              "    }\n",
              "\n",
              "    .dataframe tbody tr th {\n",
              "        vertical-align: top;\n",
              "    }\n",
              "\n",
              "    .dataframe thead th {\n",
              "        text-align: right;\n",
              "    }\n",
              "</style>\n",
              "<table border=\"1\" class=\"dataframe\">\n",
              "  <thead>\n",
              "    <tr style=\"text-align: right;\">\n",
              "      <th></th>\n",
              "      <th>importance</th>\n",
              "    </tr>\n",
              "  </thead>\n",
              "  <tbody>\n",
              "    <tr>\n",
              "      <th>title_Mr</th>\n",
              "      <td>0.561365</td>\n",
              "    </tr>\n",
              "    <tr>\n",
              "      <th>calculated_fare</th>\n",
              "      <td>0.192134</td>\n",
              "    </tr>\n",
              "    <tr>\n",
              "      <th>family_group_large</th>\n",
              "      <td>0.129091</td>\n",
              "    </tr>\n",
              "    <tr>\n",
              "      <th>fare_group_low</th>\n",
              "      <td>0.046763</td>\n",
              "    </tr>\n",
              "    <tr>\n",
              "      <th>title_rare</th>\n",
              "      <td>0.041057</td>\n",
              "    </tr>\n",
              "    <tr>\n",
              "      <th>age_group_senior_citizen</th>\n",
              "      <td>0.014146</td>\n",
              "    </tr>\n",
              "    <tr>\n",
              "      <th>Age</th>\n",
              "      <td>0.010457</td>\n",
              "    </tr>\n",
              "    <tr>\n",
              "      <th>nLength_group_short</th>\n",
              "      <td>0.004987</td>\n",
              "    </tr>\n",
              "    <tr>\n",
              "      <th>age_group_old</th>\n",
              "      <td>0.000000</td>\n",
              "    </tr>\n",
              "    <tr>\n",
              "      <th>age_group_middle_aged</th>\n",
              "      <td>0.000000</td>\n",
              "    </tr>\n",
              "  </tbody>\n",
              "</table>\n",
              "</div>\n",
              "      <button class=\"colab-df-convert\" onclick=\"convertToInteractive('df-6afcae0e-75f7-4ef2-9dc0-5d9f0aee4428')\"\n",
              "              title=\"Convert this dataframe to an interactive table.\"\n",
              "              style=\"display:none;\">\n",
              "        \n",
              "  <svg xmlns=\"http://www.w3.org/2000/svg\" height=\"24px\"viewBox=\"0 0 24 24\"\n",
              "       width=\"24px\">\n",
              "    <path d=\"M0 0h24v24H0V0z\" fill=\"none\"/>\n",
              "    <path d=\"M18.56 5.44l.94 2.06.94-2.06 2.06-.94-2.06-.94-.94-2.06-.94 2.06-2.06.94zm-11 1L8.5 8.5l.94-2.06 2.06-.94-2.06-.94L8.5 2.5l-.94 2.06-2.06.94zm10 10l.94 2.06.94-2.06 2.06-.94-2.06-.94-.94-2.06-.94 2.06-2.06.94z\"/><path d=\"M17.41 7.96l-1.37-1.37c-.4-.4-.92-.59-1.43-.59-.52 0-1.04.2-1.43.59L10.3 9.45l-7.72 7.72c-.78.78-.78 2.05 0 2.83L4 21.41c.39.39.9.59 1.41.59.51 0 1.02-.2 1.41-.59l7.78-7.78 2.81-2.81c.8-.78.8-2.07 0-2.86zM5.41 20L4 18.59l7.72-7.72 1.47 1.35L5.41 20z\"/>\n",
              "  </svg>\n",
              "      </button>\n",
              "      \n",
              "  <style>\n",
              "    .colab-df-container {\n",
              "      display:flex;\n",
              "      flex-wrap:wrap;\n",
              "      gap: 12px;\n",
              "    }\n",
              "\n",
              "    .colab-df-convert {\n",
              "      background-color: #E8F0FE;\n",
              "      border: none;\n",
              "      border-radius: 50%;\n",
              "      cursor: pointer;\n",
              "      display: none;\n",
              "      fill: #1967D2;\n",
              "      height: 32px;\n",
              "      padding: 0 0 0 0;\n",
              "      width: 32px;\n",
              "    }\n",
              "\n",
              "    .colab-df-convert:hover {\n",
              "      background-color: #E2EBFA;\n",
              "      box-shadow: 0px 1px 2px rgba(60, 64, 67, 0.3), 0px 1px 3px 1px rgba(60, 64, 67, 0.15);\n",
              "      fill: #174EA6;\n",
              "    }\n",
              "\n",
              "    [theme=dark] .colab-df-convert {\n",
              "      background-color: #3B4455;\n",
              "      fill: #D2E3FC;\n",
              "    }\n",
              "\n",
              "    [theme=dark] .colab-df-convert:hover {\n",
              "      background-color: #434B5C;\n",
              "      box-shadow: 0px 1px 3px 1px rgba(0, 0, 0, 0.15);\n",
              "      filter: drop-shadow(0px 1px 2px rgba(0, 0, 0, 0.3));\n",
              "      fill: #FFFFFF;\n",
              "    }\n",
              "  </style>\n",
              "\n",
              "      <script>\n",
              "        const buttonEl =\n",
              "          document.querySelector('#df-6afcae0e-75f7-4ef2-9dc0-5d9f0aee4428 button.colab-df-convert');\n",
              "        buttonEl.style.display =\n",
              "          google.colab.kernel.accessAllowed ? 'block' : 'none';\n",
              "\n",
              "        async function convertToInteractive(key) {\n",
              "          const element = document.querySelector('#df-6afcae0e-75f7-4ef2-9dc0-5d9f0aee4428');\n",
              "          const dataTable =\n",
              "            await google.colab.kernel.invokeFunction('convertToInteractive',\n",
              "                                                     [key], {});\n",
              "          if (!dataTable) return;\n",
              "\n",
              "          const docLinkHtml = 'Like what you see? Visit the ' +\n",
              "            '<a target=\"_blank\" href=https://colab.research.google.com/notebooks/data_table.ipynb>data table notebook</a>'\n",
              "            + ' to learn more about interactive tables.';\n",
              "          element.innerHTML = '';\n",
              "          dataTable['output_type'] = 'display_data';\n",
              "          await google.colab.output.renderOutput(dataTable, element);\n",
              "          const docLink = document.createElement('div');\n",
              "          docLink.innerHTML = docLinkHtml;\n",
              "          element.appendChild(docLink);\n",
              "        }\n",
              "      </script>\n",
              "    </div>\n",
              "  </div>\n",
              "  "
            ]
          },
          "metadata": {},
          "execution_count": 347
        }
      ]
    },
    {
      "cell_type": "markdown",
      "source": [
        "# Random Forest Classifier\n",
        "RF is an ensemble method (combination of many decision trees) which is where the \"forest\" part comes in. One crucial details about Random Forest is that while using a forest of decision trees, RF model takes random subsets of the original dataset(bootstrapped) and random subsets of the variables(features/columns). Using this method, the RF model creates a wide and large variety of decision trees. This variety makes the RF model more effective and accurate. We then run each test data point through all of these  decision trees or the RF model and take a vote on the output."
      ],
      "metadata": {
        "id": "0TbKVlQN_OZ7"
      }
    },
    {
      "cell_type": "code",
      "source": [
        "from sklearn.model_selection import GridSearchCV, StratifiedKFold, StratifiedShuffleSplit\n",
        "from sklearn.ensemble import RandomForestClassifier\n",
        "n_estimators = [140,145,150,155,160];\n",
        "max_depth = range(1,10);\n",
        "criterions = ['gini', 'entropy'];\n",
        "cv = StratifiedShuffleSplit(n_splits=10, test_size=.30, random_state=42)\n",
        "\n",
        "\n",
        "parameters = {'n_estimators':n_estimators,\n",
        "              'max_depth':max_depth,\n",
        "              'criterion': criterions\n",
        "              \n",
        "        }\n",
        "grid = GridSearchCV(estimator=RandomForestClassifier(max_features='auto'),\n",
        "                                 param_grid=parameters,\n",
        "                                 cv=cv,\n",
        "                                 n_jobs = -1)\n",
        "grid.fit(X,y) "
      ],
      "metadata": {
        "colab": {
          "base_uri": "https://localhost:8080/"
        },
        "id": "on8VMWew_e4F",
        "outputId": "cdc22714-2d32-4add-ad2b-c2f019f7f125"
      },
      "execution_count": null,
      "outputs": [
        {
          "output_type": "execute_result",
          "data": {
            "text/plain": [
              "GridSearchCV(cv=StratifiedShuffleSplit(n_splits=10, random_state=42, test_size=0.3,\n",
              "            train_size=None),\n",
              "             estimator=RandomForestClassifier(), n_jobs=-1,\n",
              "             param_grid={'criterion': ['gini', 'entropy'],\n",
              "                         'max_depth': range(1, 10),\n",
              "                         'n_estimators': [140, 145, 150, 155, 160]})"
            ]
          },
          "metadata": {},
          "execution_count": 348
        }
      ]
    },
    {
      "cell_type": "code",
      "source": [
        "print (grid.best_score_)\n",
        "print (grid.best_params_)\n",
        "print (grid.best_estimator_)"
      ],
      "metadata": {
        "colab": {
          "base_uri": "https://localhost:8080/"
        },
        "id": "ZbCERhHZ_4Ms",
        "outputId": "eb97b1dc-7120-4b07-8592-8c79ff1fdf4e"
      },
      "execution_count": null,
      "outputs": [
        {
          "output_type": "stream",
          "name": "stdout",
          "text": [
            "0.8310861423220974\n",
            "{'criterion': 'gini', 'max_depth': 7, 'n_estimators': 150}\n",
            "RandomForestClassifier(max_depth=7, n_estimators=150)\n"
          ]
        }
      ]
    },
    {
      "cell_type": "code",
      "source": [
        "rf_grid = grid.best_estimator_\n",
        "rf_grid.score(X,y)"
      ],
      "metadata": {
        "colab": {
          "base_uri": "https://localhost:8080/"
        },
        "id": "pdUno_v5_5x6",
        "outputId": "1ad7d33f-5937-427a-d58e-c1feff2c130e"
      },
      "execution_count": null,
      "outputs": [
        {
          "output_type": "execute_result",
          "data": {
            "text/plain": [
              "0.8918918918918919"
            ]
          },
          "metadata": {},
          "execution_count": 350
        }
      ]
    },
    {
      "cell_type": "code",
      "source": [
        "from sklearn.metrics import classification_report\n",
        "# Print classification report for y_test\n",
        "print(classification_report(y_test, y_pred, labels=rf_grid.classes_))"
      ],
      "metadata": {
        "colab": {
          "base_uri": "https://localhost:8080/"
        },
        "id": "ni1taQIt_8SZ",
        "outputId": "047442b8-7645-4405-b547-31b692553c25"
      },
      "execution_count": null,
      "outputs": [
        {
          "output_type": "stream",
          "name": "stdout",
          "text": [
            "              precision    recall  f1-score   support\n",
            "\n",
            "           0       0.89      0.86      0.88       176\n",
            "           1       0.80      0.85      0.82       118\n",
            "\n",
            "    accuracy                           0.85       294\n",
            "   macro avg       0.85      0.85      0.85       294\n",
            "weighted avg       0.86      0.85      0.85       294\n",
            "\n"
          ]
        }
      ]
    },
    {
      "cell_type": "markdown",
      "source": [
        "# Baggging Classifier\n",
        "Bagging classifier uses a process called bootstrapped dataset to create multiple datasets from one original dataset and runs algorithm on each one of them. Here is an image to show how bootstrapped dataset works."
      ],
      "metadata": {
        "id": "fa6ZcjOuAJWM"
      }
    },
    {
      "cell_type": "code",
      "source": [
        "from sklearn.ensemble import BaggingClassifier\n",
        "n_estimators = [10,30,50,70,80,150,160, 170,175,180,185];\n",
        "cv = StratifiedShuffleSplit(n_splits=10, test_size=.30, random_state=15)\n",
        "\n",
        "parameters = {'n_estimators':n_estimators,\n",
        "              \n",
        "        }\n",
        "grid = GridSearchCV(BaggingClassifier(base_estimator= None, ## If None, then the base estimator is a decision tree.\n",
        "                                      bootstrap_features=False),\n",
        "                                 param_grid=parameters,\n",
        "                                 cv=cv,\n",
        "                                 n_jobs = -1)\n",
        "grid.fit(X,y) "
      ],
      "metadata": {
        "colab": {
          "base_uri": "https://localhost:8080/"
        },
        "id": "aZ1vHyd7ALkU",
        "outputId": "ab121d03-4f77-4f85-ce36-91dbefa62469"
      },
      "execution_count": null,
      "outputs": [
        {
          "output_type": "execute_result",
          "data": {
            "text/plain": [
              "GridSearchCV(cv=StratifiedShuffleSplit(n_splits=10, random_state=15, test_size=0.3,\n",
              "            train_size=None),\n",
              "             estimator=BaggingClassifier(), n_jobs=-1,\n",
              "             param_grid={'n_estimators': [10, 30, 50, 70, 80, 150, 160, 170,\n",
              "                                          175, 180, 185]})"
            ]
          },
          "metadata": {},
          "execution_count": 352
        }
      ]
    },
    {
      "cell_type": "markdown",
      "source": [
        "once again..."
      ],
      "metadata": {
        "id": "3BuES2kdAW5T"
      }
    },
    {
      "cell_type": "code",
      "source": [
        "print (grid.best_score_)\n",
        "print (grid.best_params_)\n",
        "print (grid.best_estimator_)"
      ],
      "metadata": {
        "colab": {
          "base_uri": "https://localhost:8080/"
        },
        "id": "wXX7UNn_AXot",
        "outputId": "c83a3339-5e49-4803-a6e3-b355d8c103a6"
      },
      "execution_count": null,
      "outputs": [
        {
          "output_type": "stream",
          "name": "stdout",
          "text": [
            "0.8153558052434458\n",
            "{'n_estimators': 180}\n",
            "BaggingClassifier(n_estimators=180)\n"
          ]
        }
      ]
    },
    {
      "cell_type": "code",
      "source": [
        "bagging_grid = grid.best_estimator_\n",
        "bagging_grid.score(X,y)"
      ],
      "metadata": {
        "colab": {
          "base_uri": "https://localhost:8080/"
        },
        "id": "-vfhuEmYAZMD",
        "outputId": "6e25b483-9d51-4df6-da45-1873b37ae248"
      },
      "execution_count": null,
      "outputs": [
        {
          "output_type": "execute_result",
          "data": {
            "text/plain": [
              "0.9876126126126126"
            ]
          },
          "metadata": {},
          "execution_count": 354
        }
      ]
    },
    {
      "cell_type": "markdown",
      "source": [
        "# Prepare to submit results\n",
        "we are going to predict with each model \n",
        "and eventually pick the one with the highest score"
      ],
      "metadata": {
        "id": "SYshvhVwAlnU"
      }
    },
    {
      "cell_type": "code",
      "source": [
        "all_models = [logreg_grid,\n",
        "              dectree_grid,\n",
        "              rf_grid,\n",
        "              bagging_grid]\n",
        "\n",
        "c = {}\n",
        "for i in all_models:\n",
        "    a = i.predict(X_test)\n",
        "    b = accuracy_score(a, y_test)\n",
        "    c[i] = b\n",
        "    "
      ],
      "metadata": {
        "id": "TS-SqmDlAlNd"
      },
      "execution_count": null,
      "outputs": []
    },
    {
      "cell_type": "code",
      "source": [
        "print(c)"
      ],
      "metadata": {
        "colab": {
          "base_uri": "https://localhost:8080/"
        },
        "id": "83xr41cRBHcX",
        "outputId": "856d409e-e572-4f15-a7f7-922aaf2c7f18"
      },
      "execution_count": null,
      "outputs": [
        {
          "output_type": "stream",
          "name": "stdout",
          "text": [
            "{LogisticRegression(C=1): 0.8537414965986394, DecisionTreeClassifier(criterion='entropy', max_depth=4, max_features=29): 0.8469387755102041, RandomForestClassifier(max_depth=7, n_estimators=150): 0.8741496598639455, BaggingClassifier(n_estimators=180): 0.9217687074829932}\n"
          ]
        }
      ]
    },
    {
      "cell_type": "code",
      "source": [
        "max(c, key=c.get)"
      ],
      "metadata": {
        "colab": {
          "base_uri": "https://localhost:8080/"
        },
        "id": "N7V_zlhbEBHd",
        "outputId": "47112f84-0d8b-4694-92a2-ced8bae41d50"
      },
      "execution_count": null,
      "outputs": [
        {
          "output_type": "execute_result",
          "data": {
            "text/plain": [
              "BaggingClassifier(n_estimators=180)"
            ]
          },
          "metadata": {},
          "execution_count": 357
        }
      ]
    },
    {
      "cell_type": "code",
      "source": [
        "test_prediction = (max(c, key=c.get)).predict(test)\n",
        "submission = pd.DataFrame({\n",
        "        \"PassengerId\": id_col,\n",
        "        \"Survived\": test_prediction\n",
        "    })\n",
        "\n",
        "submission.PassengerId = submission.PassengerId.astype(int)\n",
        "submission.Survived = submission.Survived.astype(int)\n",
        "\n",
        "submission.to_csv(\"final_submission.csv\", index=False)"
      ],
      "metadata": {
        "colab": {
          "base_uri": "https://localhost:8080/"
        },
        "id": "DwMqCZZ3BF45",
        "outputId": "798c6eed-7337-4c17-fb49-03f3b663cbf6"
      },
      "execution_count": null,
      "outputs": [
        {
          "output_type": "stream",
          "name": "stderr",
          "text": [
            "/usr/local/lib/python3.7/dist-packages/sklearn/base.py:444: UserWarning: X has feature names, but BaggingClassifier was fitted without feature names\n",
            "  f\"X has feature names, but {self.__class__.__name__} was fitted without\"\n"
          ]
        }
      ]
    }
  ]
}